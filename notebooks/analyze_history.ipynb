{
 "cells": [
  {
   "cell_type": "code",
   "execution_count": 1,
   "metadata": {},
   "outputs": [],
   "source": [
    "import dotenv\n",
    "import pandas as pd\n",
    "import matplotlib.pyplot as plt"
   ]
  },
  {
   "cell_type": "markdown",
   "metadata": {},
   "source": [
    "## Pull ElectricityMaps history"
   ]
  },
  {
   "cell_type": "code",
   "execution_count": 2,
   "metadata": {},
   "outputs": [],
   "source": [
    "import os\n",
    "from supabase import create_client, Client\n",
    "dotenv.load_dotenv()\n",
    "\n",
    "url: str = os.environ.get(\"SUPABASE_URL\")\n",
    "key: str = os.environ.get(\"SUPABASE_KEY\")\n",
    "supabase: Client = create_client(url, key)"
   ]
  },
  {
   "cell_type": "code",
   "execution_count": 3,
   "metadata": {},
   "outputs": [],
   "source": [
    "response = supabase.table(\"electricitymaps-hourly\").select(\"*\").eq(\"testing\", False).execute()"
   ]
  },
  {
   "cell_type": "code",
   "execution_count": 4,
   "metadata": {},
   "outputs": [
    {
     "data": {
      "text/plain": [
       "dict_keys(['id', 'created_at', 'zone', 'carbon_intensity_raw', 'power_breakdown_raw', 'testing'])"
      ]
     },
     "execution_count": 4,
     "metadata": {},
     "output_type": "execute_result"
    }
   ],
   "source": [
    "response.data[0].keys()"
   ]
  },
  {
   "cell_type": "code",
   "execution_count": 5,
   "metadata": {},
   "outputs": [
    {
     "data": {
      "text/plain": [
       "201"
      ]
     },
     "execution_count": 5,
     "metadata": {},
     "output_type": "execute_result"
    }
   ],
   "source": [
    "len(response.data)"
   ]
  },
  {
   "cell_type": "code",
   "execution_count": 6,
   "metadata": {},
   "outputs": [
    {
     "data": {
      "text/plain": [
       "dict_keys(['id', 'created_at', 'zone', 'carbon_intensity_raw', 'power_breakdown_raw', 'testing'])"
      ]
     },
     "execution_count": 6,
     "metadata": {},
     "output_type": "execute_result"
    }
   ],
   "source": [
    "response.data[0].keys()"
   ]
  },
  {
   "cell_type": "code",
   "execution_count": 7,
   "metadata": {},
   "outputs": [
    {
     "data": {
      "text/plain": [
       "[{'zone': 'CA-ON',\n",
       "  'datetime': '2024-08-12T04:00:00.000Z',\n",
       "  'createdAt': '2024-08-09T04:54:32.766Z',\n",
       "  'updatedAt': '2024-08-12T08:48:58.186Z',\n",
       "  'isEstimated': True,\n",
       "  'carbonIntensity': 49,\n",
       "  'estimationMethod': 'TIME_SLICER_AVERAGE',\n",
       "  'emissionFactorType': 'lifecycle'},\n",
       " {'zone': 'CA-ON',\n",
       "  'datetime': '2024-08-12T05:00:00.000Z',\n",
       "  'createdAt': '2024-08-09T05:50:06.777Z',\n",
       "  'updatedAt': '2024-08-12T07:50:29.597Z',\n",
       "  'isEstimated': False,\n",
       "  'carbonIntensity': 44,\n",
       "  'estimationMethod': None,\n",
       "  'emissionFactorType': 'lifecycle'},\n",
       " {'zone': 'CA-ON',\n",
       "  'datetime': '2024-08-12T06:00:00.000Z',\n",
       "  'createdAt': '2024-08-09T06:49:22.181Z',\n",
       "  'updatedAt': '2024-08-12T08:48:58.186Z',\n",
       "  'isEstimated': False,\n",
       "  'carbonIntensity': 40,\n",
       "  'estimationMethod': None,\n",
       "  'emissionFactorType': 'lifecycle'},\n",
       " {'zone': 'CA-ON',\n",
       "  'datetime': '2024-08-12T07:00:00.000Z',\n",
       "  'createdAt': '2024-08-09T07:48:50.341Z',\n",
       "  'updatedAt': '2024-08-12T09:50:15.226Z',\n",
       "  'isEstimated': False,\n",
       "  'carbonIntensity': 42,\n",
       "  'estimationMethod': None,\n",
       "  'emissionFactorType': 'lifecycle'},\n",
       " {'zone': 'CA-ON',\n",
       "  'datetime': '2024-08-12T08:00:00.000Z',\n",
       "  'createdAt': '2024-08-09T09:04:42.748Z',\n",
       "  'updatedAt': '2024-08-12T10:48:28.091Z',\n",
       "  'isEstimated': False,\n",
       "  'carbonIntensity': 44,\n",
       "  'estimationMethod': None,\n",
       "  'emissionFactorType': 'lifecycle'},\n",
       " {'zone': 'CA-ON',\n",
       "  'datetime': '2024-08-12T09:00:00.000Z',\n",
       "  'createdAt': '2024-08-09T09:47:41.249Z',\n",
       "  'updatedAt': '2024-08-12T11:49:04.509Z',\n",
       "  'isEstimated': False,\n",
       "  'carbonIntensity': 52,\n",
       "  'estimationMethod': None,\n",
       "  'emissionFactorType': 'lifecycle'},\n",
       " {'zone': 'CA-ON',\n",
       "  'datetime': '2024-08-12T10:00:00.000Z',\n",
       "  'createdAt': '2024-08-09T10:48:49.331Z',\n",
       "  'updatedAt': '2024-08-12T12:47:22.783Z',\n",
       "  'isEstimated': False,\n",
       "  'carbonIntensity': 63,\n",
       "  'estimationMethod': None,\n",
       "  'emissionFactorType': 'lifecycle'},\n",
       " {'zone': 'CA-ON',\n",
       "  'datetime': '2024-08-12T11:00:00.000Z',\n",
       "  'createdAt': '2024-08-09T11:46:45.624Z',\n",
       "  'updatedAt': '2024-08-12T13:50:24.615Z',\n",
       "  'isEstimated': False,\n",
       "  'carbonIntensity': 77,\n",
       "  'estimationMethod': None,\n",
       "  'emissionFactorType': 'lifecycle'},\n",
       " {'zone': 'CA-ON',\n",
       "  'datetime': '2024-08-12T12:00:00.000Z',\n",
       "  'createdAt': '2024-08-09T12:49:43.710Z',\n",
       "  'updatedAt': '2024-08-12T14:47:19.581Z',\n",
       "  'isEstimated': False,\n",
       "  'carbonIntensity': 91,\n",
       "  'estimationMethod': None,\n",
       "  'emissionFactorType': 'lifecycle'},\n",
       " {'zone': 'CA-ON',\n",
       "  'datetime': '2024-08-12T13:00:00.000Z',\n",
       "  'createdAt': '2024-08-09T13:47:26.593Z',\n",
       "  'updatedAt': '2024-08-12T15:50:14.605Z',\n",
       "  'isEstimated': False,\n",
       "  'carbonIntensity': 95,\n",
       "  'estimationMethod': None,\n",
       "  'emissionFactorType': 'lifecycle'},\n",
       " {'zone': 'CA-ON',\n",
       "  'datetime': '2024-08-12T14:00:00.000Z',\n",
       "  'createdAt': '2024-08-09T14:48:12.394Z',\n",
       "  'updatedAt': '2024-08-12T16:48:08.118Z',\n",
       "  'isEstimated': False,\n",
       "  'carbonIntensity': 96,\n",
       "  'estimationMethod': None,\n",
       "  'emissionFactorType': 'lifecycle'},\n",
       " {'zone': 'CA-ON',\n",
       "  'datetime': '2024-08-12T15:00:00.000Z',\n",
       "  'createdAt': '2024-08-09T15:49:49.935Z',\n",
       "  'updatedAt': '2024-08-12T17:47:54.700Z',\n",
       "  'isEstimated': False,\n",
       "  'carbonIntensity': 108,\n",
       "  'estimationMethod': None,\n",
       "  'emissionFactorType': 'lifecycle'},\n",
       " {'zone': 'CA-ON',\n",
       "  'datetime': '2024-08-12T16:00:00.000Z',\n",
       "  'createdAt': '2024-08-09T16:49:25.502Z',\n",
       "  'updatedAt': '2024-08-12T19:48:18.458Z',\n",
       "  'isEstimated': False,\n",
       "  'carbonIntensity': 123,\n",
       "  'estimationMethod': None,\n",
       "  'emissionFactorType': 'lifecycle'},\n",
       " {'zone': 'CA-ON',\n",
       "  'datetime': '2024-08-12T17:00:00.000Z',\n",
       "  'createdAt': '2024-08-09T17:51:16.875Z',\n",
       "  'updatedAt': '2024-08-12T19:48:18.458Z',\n",
       "  'isEstimated': False,\n",
       "  'carbonIntensity': 134,\n",
       "  'estimationMethod': None,\n",
       "  'emissionFactorType': 'lifecycle'},\n",
       " {'zone': 'CA-ON',\n",
       "  'datetime': '2024-08-12T18:00:00.000Z',\n",
       "  'createdAt': '2024-08-09T18:48:56.502Z',\n",
       "  'updatedAt': '2024-08-12T20:50:10.917Z',\n",
       "  'isEstimated': False,\n",
       "  'carbonIntensity': 129,\n",
       "  'estimationMethod': None,\n",
       "  'emissionFactorType': 'lifecycle'},\n",
       " {'zone': 'CA-ON',\n",
       "  'datetime': '2024-08-12T19:00:00.000Z',\n",
       "  'createdAt': '2024-08-09T19:48:45.216Z',\n",
       "  'updatedAt': '2024-08-12T21:45:53.909Z',\n",
       "  'isEstimated': False,\n",
       "  'carbonIntensity': 121,\n",
       "  'estimationMethod': None,\n",
       "  'emissionFactorType': 'lifecycle'},\n",
       " {'zone': 'CA-ON',\n",
       "  'datetime': '2024-08-12T20:00:00.000Z',\n",
       "  'createdAt': '2024-08-09T20:47:50.950Z',\n",
       "  'updatedAt': '2024-08-12T22:47:46.722Z',\n",
       "  'isEstimated': False,\n",
       "  'carbonIntensity': 115,\n",
       "  'estimationMethod': None,\n",
       "  'emissionFactorType': 'lifecycle'},\n",
       " {'zone': 'CA-ON',\n",
       "  'datetime': '2024-08-12T21:00:00.000Z',\n",
       "  'createdAt': '2024-08-09T21:53:20.433Z',\n",
       "  'updatedAt': '2024-08-12T23:50:21.590Z',\n",
       "  'isEstimated': False,\n",
       "  'carbonIntensity': 118,\n",
       "  'estimationMethod': None,\n",
       "  'emissionFactorType': 'lifecycle'},\n",
       " {'zone': 'CA-ON',\n",
       "  'datetime': '2024-08-12T22:00:00.000Z',\n",
       "  'createdAt': '2024-08-09T22:47:21.364Z',\n",
       "  'updatedAt': '2024-08-13T01:49:50.851Z',\n",
       "  'isEstimated': False,\n",
       "  'carbonIntensity': 121,\n",
       "  'estimationMethod': None,\n",
       "  'emissionFactorType': 'lifecycle'},\n",
       " {'zone': 'CA-ON',\n",
       "  'datetime': '2024-08-12T23:00:00.000Z',\n",
       "  'createdAt': '2024-08-09T23:47:01.989Z',\n",
       "  'updatedAt': '2024-08-13T01:49:50.851Z',\n",
       "  'isEstimated': False,\n",
       "  'carbonIntensity': 121,\n",
       "  'estimationMethod': None,\n",
       "  'emissionFactorType': 'lifecycle'},\n",
       " {'zone': 'CA-ON',\n",
       "  'datetime': '2024-08-13T00:00:00.000Z',\n",
       "  'createdAt': '2024-08-10T00:54:33.839Z',\n",
       "  'updatedAt': '2024-08-13T02:46:58.391Z',\n",
       "  'isEstimated': False,\n",
       "  'carbonIntensity': 124,\n",
       "  'estimationMethod': None,\n",
       "  'emissionFactorType': 'lifecycle'},\n",
       " {'zone': 'CA-ON',\n",
       "  'datetime': '2024-08-13T01:00:00.000Z',\n",
       "  'createdAt': '2024-08-10T01:47:36.687Z',\n",
       "  'updatedAt': '2024-08-13T02:47:35.438Z',\n",
       "  'isEstimated': False,\n",
       "  'carbonIntensity': 126,\n",
       "  'estimationMethod': None,\n",
       "  'emissionFactorType': 'lifecycle'},\n",
       " {'zone': 'CA-ON',\n",
       "  'datetime': '2024-08-13T02:00:00.000Z',\n",
       "  'createdAt': '2024-08-10T02:48:44.825Z',\n",
       "  'updatedAt': '2024-08-13T02:47:35.438Z',\n",
       "  'isEstimated': True,\n",
       "  'carbonIntensity': 124,\n",
       "  'estimationMethod': 'TIME_SLICER_AVERAGE',\n",
       "  'emissionFactorType': 'lifecycle'},\n",
       " {'zone': 'CA-ON',\n",
       "  'datetime': '2024-08-13T03:00:00.000Z',\n",
       "  'createdAt': '2024-08-10T03:50:30.436Z',\n",
       "  'updatedAt': '2024-08-13T02:47:35.438Z',\n",
       "  'isEstimated': True,\n",
       "  'carbonIntensity': 115,\n",
       "  'estimationMethod': 'TIME_SLICER_AVERAGE',\n",
       "  'emissionFactorType': 'lifecycle'}]"
      ]
     },
     "execution_count": 7,
     "metadata": {},
     "output_type": "execute_result"
    }
   ],
   "source": [
    "response.data[0]['carbon_intensity_raw']['history']"
   ]
  },
  {
   "cell_type": "code",
   "execution_count": 8,
   "metadata": {},
   "outputs": [
    {
     "data": {
      "text/html": [
       "<div>\n",
       "<style scoped>\n",
       "    .dataframe tbody tr th:only-of-type {\n",
       "        vertical-align: middle;\n",
       "    }\n",
       "\n",
       "    .dataframe tbody tr th {\n",
       "        vertical-align: top;\n",
       "    }\n",
       "\n",
       "    .dataframe thead th {\n",
       "        text-align: right;\n",
       "    }\n",
       "</style>\n",
       "<table border=\"1\" class=\"dataframe\">\n",
       "  <thead>\n",
       "    <tr style=\"text-align: right;\">\n",
       "      <th></th>\n",
       "      <th>zone</th>\n",
       "      <th>datetime</th>\n",
       "      <th>createdAt</th>\n",
       "      <th>updatedAt</th>\n",
       "      <th>isEstimated</th>\n",
       "      <th>carbonIntensity</th>\n",
       "      <th>estimationMethod</th>\n",
       "      <th>emissionFactorType</th>\n",
       "    </tr>\n",
       "  </thead>\n",
       "  <tbody>\n",
       "    <tr>\n",
       "      <th>0</th>\n",
       "      <td>CA-ON</td>\n",
       "      <td>2024-08-12T04:00:00.000Z</td>\n",
       "      <td>2024-08-09T04:54:32.766Z</td>\n",
       "      <td>2024-08-12T08:48:58.186Z</td>\n",
       "      <td>True</td>\n",
       "      <td>49</td>\n",
       "      <td>TIME_SLICER_AVERAGE</td>\n",
       "      <td>lifecycle</td>\n",
       "    </tr>\n",
       "    <tr>\n",
       "      <th>1</th>\n",
       "      <td>CA-ON</td>\n",
       "      <td>2024-08-12T05:00:00.000Z</td>\n",
       "      <td>2024-08-09T05:50:06.777Z</td>\n",
       "      <td>2024-08-12T07:50:29.597Z</td>\n",
       "      <td>False</td>\n",
       "      <td>44</td>\n",
       "      <td>None</td>\n",
       "      <td>lifecycle</td>\n",
       "    </tr>\n",
       "    <tr>\n",
       "      <th>72</th>\n",
       "      <td>CA-ON</td>\n",
       "      <td>2024-08-12T05:00:00.000Z</td>\n",
       "      <td>2024-08-09T05:50:06.777Z</td>\n",
       "      <td>2024-08-12T07:50:29.597Z</td>\n",
       "      <td>False</td>\n",
       "      <td>44</td>\n",
       "      <td>None</td>\n",
       "      <td>lifecycle</td>\n",
       "    </tr>\n",
       "    <tr>\n",
       "      <th>2</th>\n",
       "      <td>CA-ON</td>\n",
       "      <td>2024-08-12T06:00:00.000Z</td>\n",
       "      <td>2024-08-09T06:49:22.181Z</td>\n",
       "      <td>2024-08-12T08:48:58.186Z</td>\n",
       "      <td>False</td>\n",
       "      <td>40</td>\n",
       "      <td>None</td>\n",
       "      <td>lifecycle</td>\n",
       "    </tr>\n",
       "    <tr>\n",
       "      <th>144</th>\n",
       "      <td>CA-ON</td>\n",
       "      <td>2024-08-12T06:00:00.000Z</td>\n",
       "      <td>2024-08-09T06:49:22.181Z</td>\n",
       "      <td>2024-08-12T08:48:58.186Z</td>\n",
       "      <td>False</td>\n",
       "      <td>40</td>\n",
       "      <td>None</td>\n",
       "      <td>lifecycle</td>\n",
       "    </tr>\n",
       "    <tr>\n",
       "      <th>...</th>\n",
       "      <td>...</td>\n",
       "      <td>...</td>\n",
       "      <td>...</td>\n",
       "      <td>...</td>\n",
       "      <td>...</td>\n",
       "      <td>...</td>\n",
       "      <td>...</td>\n",
       "      <td>...</td>\n",
       "    </tr>\n",
       "    <tr>\n",
       "      <th>4702</th>\n",
       "      <td>CA-ON</td>\n",
       "      <td>2024-08-15T19:00:00.000Z</td>\n",
       "      <td>2024-08-12T19:48:18.458Z</td>\n",
       "      <td>2024-08-15T19:49:08.063Z</td>\n",
       "      <td>True</td>\n",
       "      <td>147</td>\n",
       "      <td>TIME_SLICER_AVERAGE</td>\n",
       "      <td>lifecycle</td>\n",
       "    </tr>\n",
       "    <tr>\n",
       "      <th>4773</th>\n",
       "      <td>CA-ON</td>\n",
       "      <td>2024-08-15T19:00:00.000Z</td>\n",
       "      <td>2024-08-12T19:48:18.458Z</td>\n",
       "      <td>2024-08-15T20:50:36.840Z</td>\n",
       "      <td>False</td>\n",
       "      <td>142</td>\n",
       "      <td>None</td>\n",
       "      <td>lifecycle</td>\n",
       "    </tr>\n",
       "    <tr>\n",
       "      <th>4703</th>\n",
       "      <td>CA-ON</td>\n",
       "      <td>2024-08-15T20:00:00.000Z</td>\n",
       "      <td>2024-08-12T20:50:10.917Z</td>\n",
       "      <td>2024-08-15T19:49:08.063Z</td>\n",
       "      <td>True</td>\n",
       "      <td>151</td>\n",
       "      <td>TIME_SLICER_AVERAGE</td>\n",
       "      <td>lifecycle</td>\n",
       "    </tr>\n",
       "    <tr>\n",
       "      <th>4774</th>\n",
       "      <td>CA-ON</td>\n",
       "      <td>2024-08-15T20:00:00.000Z</td>\n",
       "      <td>2024-08-12T20:50:10.917Z</td>\n",
       "      <td>2024-08-15T20:51:09.528Z</td>\n",
       "      <td>True</td>\n",
       "      <td>144</td>\n",
       "      <td>TIME_SLICER_AVERAGE</td>\n",
       "      <td>lifecycle</td>\n",
       "    </tr>\n",
       "    <tr>\n",
       "      <th>4775</th>\n",
       "      <td>CA-ON</td>\n",
       "      <td>2024-08-15T21:00:00.000Z</td>\n",
       "      <td>2024-08-12T21:45:53.909Z</td>\n",
       "      <td>2024-08-15T20:51:01.830Z</td>\n",
       "      <td>True</td>\n",
       "      <td>151</td>\n",
       "      <td>TIME_SLICER_AVERAGE</td>\n",
       "      <td>lifecycle</td>\n",
       "    </tr>\n",
       "  </tbody>\n",
       "</table>\n",
       "<p>1608 rows × 8 columns</p>\n",
       "</div>"
      ],
      "text/plain": [
       "       zone                  datetime                 createdAt  \\\n",
       "0     CA-ON  2024-08-12T04:00:00.000Z  2024-08-09T04:54:32.766Z   \n",
       "1     CA-ON  2024-08-12T05:00:00.000Z  2024-08-09T05:50:06.777Z   \n",
       "72    CA-ON  2024-08-12T05:00:00.000Z  2024-08-09T05:50:06.777Z   \n",
       "2     CA-ON  2024-08-12T06:00:00.000Z  2024-08-09T06:49:22.181Z   \n",
       "144   CA-ON  2024-08-12T06:00:00.000Z  2024-08-09T06:49:22.181Z   \n",
       "...     ...                       ...                       ...   \n",
       "4702  CA-ON  2024-08-15T19:00:00.000Z  2024-08-12T19:48:18.458Z   \n",
       "4773  CA-ON  2024-08-15T19:00:00.000Z  2024-08-12T19:48:18.458Z   \n",
       "4703  CA-ON  2024-08-15T20:00:00.000Z  2024-08-12T20:50:10.917Z   \n",
       "4774  CA-ON  2024-08-15T20:00:00.000Z  2024-08-12T20:50:10.917Z   \n",
       "4775  CA-ON  2024-08-15T21:00:00.000Z  2024-08-12T21:45:53.909Z   \n",
       "\n",
       "                     updatedAt  isEstimated  carbonIntensity  \\\n",
       "0     2024-08-12T08:48:58.186Z         True               49   \n",
       "1     2024-08-12T07:50:29.597Z        False               44   \n",
       "72    2024-08-12T07:50:29.597Z        False               44   \n",
       "2     2024-08-12T08:48:58.186Z        False               40   \n",
       "144   2024-08-12T08:48:58.186Z        False               40   \n",
       "...                        ...          ...              ...   \n",
       "4702  2024-08-15T19:49:08.063Z         True              147   \n",
       "4773  2024-08-15T20:50:36.840Z        False              142   \n",
       "4703  2024-08-15T19:49:08.063Z         True              151   \n",
       "4774  2024-08-15T20:51:09.528Z         True              144   \n",
       "4775  2024-08-15T20:51:01.830Z         True              151   \n",
       "\n",
       "         estimationMethod emissionFactorType  \n",
       "0     TIME_SLICER_AVERAGE          lifecycle  \n",
       "1                    None          lifecycle  \n",
       "72                   None          lifecycle  \n",
       "2                    None          lifecycle  \n",
       "144                  None          lifecycle  \n",
       "...                   ...                ...  \n",
       "4702  TIME_SLICER_AVERAGE          lifecycle  \n",
       "4773                 None          lifecycle  \n",
       "4703  TIME_SLICER_AVERAGE          lifecycle  \n",
       "4774  TIME_SLICER_AVERAGE          lifecycle  \n",
       "4775  TIME_SLICER_AVERAGE          lifecycle  \n",
       "\n",
       "[1608 rows x 8 columns]"
      ]
     },
     "execution_count": 8,
     "metadata": {},
     "output_type": "execute_result"
    }
   ],
   "source": [
    "# Generate a big ol' dataframe by iterating over all the responses\n",
    "all_records = pd.DataFrame.from_records([\n",
    "    record\n",
    "    for resp in response.data\n",
    "    for record in resp['carbon_intensity_raw']['history']\n",
    "])\n",
    "all_records.loc[all_records.zone == \"CA-ON\"].sort_values(by='datetime', ascending=True)\n"
   ]
  },
  {
   "cell_type": "markdown",
   "metadata": {},
   "source": [
    "### EDA"
   ]
  },
  {
   "cell_type": "code",
   "execution_count": 9,
   "metadata": {},
   "outputs": [],
   "source": [
    "# all_records.loc[all_records.zone == \"CA-ON\"].groupby(\"datetime\").count()"
   ]
  },
  {
   "cell_type": "code",
   "execution_count": 10,
   "metadata": {},
   "outputs": [],
   "source": [
    "#  all_records.loc[\n",
    "#     (all_records.zone == \"CA-ON\") & (all_records.datetime == \"2024-08-12T19:00:00.000Z\")\n",
    "# ]"
   ]
  },
  {
   "cell_type": "code",
   "execution_count": 11,
   "metadata": {},
   "outputs": [],
   "source": [
    "# all_records.drop_duplicates().groupby([\"zone\", \"datetime\"])['carbonIntensity'].count().sort_values(ascending=False)"
   ]
  },
  {
   "cell_type": "code",
   "execution_count": 12,
   "metadata": {},
   "outputs": [],
   "source": [
    "# all_records.drop_duplicates().query(\"zone == 'US-NE-ISNE' & datetime == '2024-08-13T05:00:00.000Z'\").drop_duplicates()"
   ]
  },
  {
   "cell_type": "code",
   "execution_count": 13,
   "metadata": {},
   "outputs": [],
   "source": [
    "# Within each zone,datetime group, select the record with maximum updatedAt value\n",
    "idx = all_records.groupby([\"zone\", \"datetime\"])['updatedAt'].idxmax()\n",
    "filtered_records = all_records.loc[idx].reset_index(drop=True)\n",
    "\n",
    "datetime_cols = [\"datetime\", \"createdAt\", \"updatedAt\"]\n",
    "filtered_records[datetime_cols] = filtered_records[datetime_cols].apply(pd.to_datetime).apply(lambda x: x.dt.tz_convert(\"America/New_York\"))"
   ]
  },
  {
   "cell_type": "code",
   "execution_count": 14,
   "metadata": {},
   "outputs": [],
   "source": [
    "# filtered_records.query(\"zone == 'US-NE-ISNE' & datetime == '2024-08-13T05:00:00.000Z'\")"
   ]
  },
  {
   "cell_type": "markdown",
   "metadata": {},
   "source": [
    "### Plot history"
   ]
  },
  {
   "cell_type": "code",
   "execution_count": 15,
   "metadata": {},
   "outputs": [
    {
     "data": {
      "image/png": "[encoded data removed]",
      "text/plain": [
       "<Figure size 640x480 with 1 Axes>"
      ]
     },
     "metadata": {},
     "output_type": "display_data"
    }
   ],
   "source": [
    "import matplotlib.dates as mdates\n",
    "fig, ax = plt.subplots()\n",
    "\n",
    "for zone in filtered_records.zone.unique():\n",
    "    zone_data = filtered_records.loc[filtered_records.zone == zone]\n",
    "    ax.plot(zone_data.datetime, zone_data.carbonIntensity, label=zone)\n",
    "\n",
    "# Apply gray background to nighttime hours (9 PM - 5 AM)\n",
    "dates = filtered_records.datetime.dt.normalize().unique()\n",
    "\n",
    "for date in dates:\n",
    "    # Define the night interval for each date\n",
    "    night_start = date + pd.Timedelta(hours=-3)  # 9 PM\n",
    "    night_end = date + pd.Timedelta(hours=5)    # 5 AM next day\n",
    "    noon = date + pd.Timedelta(hours=12)        # 12 PM\n",
    "\n",
    "    # Add the shaded region directly using the localized timestamps\n",
    "    ax.axvspan(night_start, night_end, color='gray', alpha=0.2)\n",
    "    ax.axvline(noon, color='red', linestyle='--')\n",
    "\n",
    "# Set major locator to every hour\n",
    "ax.xaxis.set_major_locator(mdates.HourLocator(interval=6, tz=\"America/New_York\"))\n",
    "\n",
    "# Set major formatter to show date and time\n",
    "ax.xaxis.set_major_formatter(mdates.DateFormatter('%Y-%m-%d %H:%M', tz=\"America/New_York\"))\n",
    "\n",
    "# Optional: rotate and align the tick labels so they look better\n",
    "plt.setp(ax.get_xticklabels(), rotation=45, ha='right')\n",
    "# Optional: add grid for better readability\n",
    "ax.grid(True)\n",
    "ax.legend(bbox_to_anchor=(1, 0.7))\n",
    "ax.set_title(\"Carbon Intensity by Zone\")\n",
    "ax.set_ylabel(\"Carbon Intensity (gCO2eq/kWh)\")\n",
    "ax.set_xlabel(\"Date and Time\")\n",
    "fig.autofmt_xdate()\n",
    "plt.show()"
   ]
  },
  {
   "cell_type": "code",
   "execution_count": 16,
   "metadata": {},
   "outputs": [
    {
     "data": {
      "text/plain": [
       "Timestamp('2024-08-15 21:00:00+0000', tz='UTC')"
      ]
     },
     "execution_count": 16,
     "metadata": {},
     "output_type": "execute_result"
    }
   ],
   "source": [
    "filtered_records.datetime.max().tz_convert(\"UTC\")"
   ]
  },
  {
   "cell_type": "markdown",
   "metadata": {},
   "source": [
    "## Retrieve overlapping carbon intensity from gridemissions API"
   ]
  },
  {
   "cell_type": "code",
   "execution_count": 17,
   "metadata": {},
   "outputs": [],
   "source": [
    "from gridemissions import api"
   ]
  },
  {
   "cell_type": "code",
   "execution_count": 18,
   "metadata": {},
   "outputs": [
    {
     "data": {
      "text/plain": [
       "{'DATA_PATH': PosixPath('/Users/alexhasha/data/gridemissions'),\n",
       " 'TMP_PATH': PosixPath('/Users/alexhasha/tmp/gridemissions'),\n",
       " 'ENV': 'PROD',\n",
       " 'API_URL': 'https://api.gridemissions.com',\n",
       " 'S3_URL': 'https://gridemissions.s3.us-east-2.amazonaws.com/',\n",
       " 'DATA_PATH_LIVE': PosixPath('/Users/alexhasha/data/gridemissions/live')}"
      ]
     },
     "execution_count": 18,
     "metadata": {},
     "output_type": "execute_result"
    }
   ],
   "source": [
    "from gridemissions import config\n",
    "config"
   ]
  },
  {
   "cell_type": "code",
   "execution_count": 20,
   "metadata": {},
   "outputs": [
    {
     "name": "stdout",
     "output_type": "stream",
     "text": [
      "DatetimeIndex(['2024-07-20 20:00:00', '2024-07-20 21:00:00',\n",
      "               '2024-07-20 22:00:00', '2024-07-20 23:00:00',\n",
      "               '2024-07-21 00:00:00', '2024-07-21 01:00:00',\n",
      "               '2024-07-21 02:00:00', '2024-07-21 03:00:00',\n",
      "               '2024-07-21 04:00:00', '2024-07-21 05:00:00',\n",
      "               '2024-07-21 06:00:00', '2024-07-21 07:00:00',\n",
      "               '2024-07-21 08:00:00', '2024-07-21 09:00:00',\n",
      "               '2024-07-21 10:00:00', '2024-07-21 11:00:00',\n",
      "               '2024-07-21 12:00:00', '2024-07-21 13:00:00',\n",
      "               '2024-07-21 14:00:00', '2024-07-21 15:00:00',\n",
      "               '2024-07-21 16:00:00', '2024-07-21 17:00:00',\n",
      "               '2024-07-21 18:00:00', '2024-07-21 19:00:00',\n",
      "               '2024-07-21 20:00:00'],\n",
      "              dtype='datetime64[ns]', name='period', freq=None)\n",
      "DatetimeIndex(['2024-07-20 20:00:00', '2024-07-20 21:00:00',\n",
      "               '2024-07-20 22:00:00', '2024-07-20 23:00:00',\n",
      "               '2024-07-21 00:00:00', '2024-07-21 01:00:00',\n",
      "               '2024-07-21 02:00:00', '2024-07-21 03:00:00',\n",
      "               '2024-07-21 04:00:00', '2024-07-21 05:00:00',\n",
      "               '2024-07-21 06:00:00', '2024-07-21 07:00:00',\n",
      "               '2024-07-21 08:00:00', '2024-07-21 09:00:00',\n",
      "               '2024-07-21 10:00:00', '2024-07-21 11:00:00',\n",
      "               '2024-07-21 12:00:00', '2024-07-21 13:00:00',\n",
      "               '2024-07-21 14:00:00', '2024-07-21 15:00:00',\n",
      "               '2024-07-21 16:00:00', '2024-07-21 17:00:00',\n",
      "               '2024-07-21 18:00:00', '2024-07-21 19:00:00',\n",
      "               '2024-07-21 20:00:00'],\n",
      "              dtype='datetime64[ns]', name='period', freq=None)\n"
     ]
    },
    {
     "ename": "AssertionError",
     "evalue": "",
     "output_type": "error",
     "traceback": [
      "\u001b[0;31m---------------------------------------------------------------------------\u001b[0m",
      "\u001b[0;31mAssertionError\u001b[0m                            Traceback (most recent call last)",
      "Cell \u001b[0;32mIn[20], line 2\u001b[0m\n\u001b[1;32m      1\u001b[0m \u001b[38;5;66;03m# Download overlapping CO2i emissions embodied in electricity consumption is the ISNE region\u001b[39;00m\n\u001b[0;32m----> 2\u001b[0m data \u001b[38;5;241m=\u001b[39m \u001b[43mapi\u001b[49m\u001b[38;5;241;43m.\u001b[39;49m\u001b[43mretrieve\u001b[49m\u001b[43m(\u001b[49m\n\u001b[1;32m      3\u001b[0m \u001b[43m    \u001b[49m\u001b[43mdataset\u001b[49m\u001b[38;5;241;43m=\u001b[39;49m\u001b[38;5;124;43m\"\u001b[39;49m\u001b[38;5;124;43mco2i\u001b[39;49m\u001b[38;5;124;43m\"\u001b[39;49m\u001b[43m,\u001b[49m\n\u001b[1;32m      4\u001b[0m \u001b[43m    \u001b[49m\u001b[43mregion\u001b[49m\u001b[38;5;241;43m=\u001b[39;49m\u001b[38;5;124;43m\"\u001b[39;49m\u001b[38;5;124;43mISNE\u001b[39;49m\u001b[38;5;124;43m\"\u001b[39;49m\u001b[43m,\u001b[49m\n\u001b[1;32m      5\u001b[0m \u001b[43m    \u001b[49m\u001b[43mfield\u001b[49m\u001b[38;5;241;43m=\u001b[39;49m\u001b[38;5;124;43m\"\u001b[39;49m\u001b[38;5;124;43mD\u001b[39;49m\u001b[38;5;124;43m\"\u001b[39;49m\u001b[43m,\u001b[49m\n\u001b[1;32m      6\u001b[0m \u001b[43m)\u001b[49m\n",
      "File \u001b[0;32m~/repos/power-supply-dashboard-analysis/libs/gridemissions/src/gridemissions/api.py:83\u001b[0m, in \u001b[0;36mretrieve\u001b[0;34m(dataset, start, end, return_type, **kwargs)\u001b[0m\n\u001b[1;32m     79\u001b[0m field \u001b[38;5;241m=\u001b[39m kwargs[\u001b[38;5;124m\"\u001b[39m\u001b[38;5;124mfield\u001b[39m\u001b[38;5;124m\"\u001b[39m]\n\u001b[1;32m     80\u001b[0m co2\u001b[38;5;241m.\u001b[39mcolumns \u001b[38;5;241m=\u001b[39m co2\u001b[38;5;241m.\u001b[39mcolumns\u001b[38;5;241m.\u001b[39mmap(\n\u001b[1;32m     81\u001b[0m     \u001b[38;5;28;01mlambda\u001b[39;00m x: eia_api_v1\u001b[38;5;241m.\u001b[39mcolumn_name_to_region(x, key_CO2[field])\n\u001b[1;32m     82\u001b[0m )\n\u001b[0;32m---> 83\u001b[0m elec\u001b[38;5;241m.\u001b[39mcolumns \u001b[38;5;241m=\u001b[39m \u001b[43melec\u001b[49m\u001b[38;5;241;43m.\u001b[39;49m\u001b[43mcolumns\u001b[49m\u001b[38;5;241;43m.\u001b[39;49m\u001b[43mmap\u001b[49m\u001b[43m(\u001b[49m\n\u001b[1;32m     84\u001b[0m \u001b[43m    \u001b[49m\u001b[38;5;28;43;01mlambda\u001b[39;49;00m\u001b[43m \u001b[49m\u001b[43mx\u001b[49m\u001b[43m:\u001b[49m\u001b[43m \u001b[49m\u001b[43meia_api_v1\u001b[49m\u001b[38;5;241;43m.\u001b[39;49m\u001b[43mcolumn_name_to_region\u001b[49m\u001b[43m(\u001b[49m\u001b[43mx\u001b[49m\u001b[43m,\u001b[49m\u001b[43m \u001b[49m\u001b[43mkey_E\u001b[49m\u001b[43m[\u001b[49m\u001b[43mfield\u001b[49m\u001b[43m]\u001b[49m\u001b[43m)\u001b[49m\n\u001b[1;32m     85\u001b[0m \u001b[43m\u001b[49m\u001b[43m)\u001b[49m\n\u001b[1;32m     86\u001b[0m co2i \u001b[38;5;241m=\u001b[39m co2 \u001b[38;5;241m/\u001b[39m elec\n\u001b[1;32m     87\u001b[0m co2i\u001b[38;5;241m.\u001b[39mcolumns \u001b[38;5;241m=\u001b[39m co2i\u001b[38;5;241m.\u001b[39mcolumns\u001b[38;5;241m.\u001b[39mmap(\u001b[38;5;28;01mlambda\u001b[39;00m x: key_CO2i[field] \u001b[38;5;241m%\u001b[39m x)\n",
      "File \u001b[0;32m~/Library/Caches/pypoetry/virtualenvs/power-dashboard-zNqpkPiA-py3.12/lib/python3.12/site-packages/pandas/core/indexes/base.py:6491\u001b[0m, in \u001b[0;36mIndex.map\u001b[0;34m(self, mapper, na_action)\u001b[0m\n\u001b[1;32m   6455\u001b[0m \u001b[38;5;250m\u001b[39m\u001b[38;5;124;03m\"\"\"\u001b[39;00m\n\u001b[1;32m   6456\u001b[0m \u001b[38;5;124;03mMap values using an input mapping or function.\u001b[39;00m\n\u001b[1;32m   6457\u001b[0m \n\u001b[0;32m   (...)\u001b[0m\n\u001b[1;32m   6487\u001b[0m \u001b[38;5;124;03mIndex(['A', 'B', 'C'], dtype='object')\u001b[39;00m\n\u001b[1;32m   6488\u001b[0m \u001b[38;5;124;03m\"\"\"\u001b[39;00m\n\u001b[1;32m   6489\u001b[0m \u001b[38;5;28;01mfrom\u001b[39;00m \u001b[38;5;21;01mpandas\u001b[39;00m\u001b[38;5;21;01m.\u001b[39;00m\u001b[38;5;21;01mcore\u001b[39;00m\u001b[38;5;21;01m.\u001b[39;00m\u001b[38;5;21;01mindexes\u001b[39;00m\u001b[38;5;21;01m.\u001b[39;00m\u001b[38;5;21;01mmulti\u001b[39;00m \u001b[38;5;28;01mimport\u001b[39;00m MultiIndex\n\u001b[0;32m-> 6491\u001b[0m new_values \u001b[38;5;241m=\u001b[39m \u001b[38;5;28;43mself\u001b[39;49m\u001b[38;5;241;43m.\u001b[39;49m\u001b[43m_map_values\u001b[49m\u001b[43m(\u001b[49m\u001b[43mmapper\u001b[49m\u001b[43m,\u001b[49m\u001b[43m \u001b[49m\u001b[43mna_action\u001b[49m\u001b[38;5;241;43m=\u001b[39;49m\u001b[43mna_action\u001b[49m\u001b[43m)\u001b[49m\n\u001b[1;32m   6493\u001b[0m \u001b[38;5;66;03m# we can return a MultiIndex\u001b[39;00m\n\u001b[1;32m   6494\u001b[0m \u001b[38;5;28;01mif\u001b[39;00m new_values\u001b[38;5;241m.\u001b[39msize \u001b[38;5;129;01mand\u001b[39;00m \u001b[38;5;28misinstance\u001b[39m(new_values[\u001b[38;5;241m0\u001b[39m], \u001b[38;5;28mtuple\u001b[39m):\n",
      "File \u001b[0;32m~/Library/Caches/pypoetry/virtualenvs/power-dashboard-zNqpkPiA-py3.12/lib/python3.12/site-packages/pandas/core/base.py:921\u001b[0m, in \u001b[0;36mIndexOpsMixin._map_values\u001b[0;34m(self, mapper, na_action, convert)\u001b[0m\n\u001b[1;32m    918\u001b[0m \u001b[38;5;28;01mif\u001b[39;00m \u001b[38;5;28misinstance\u001b[39m(arr, ExtensionArray):\n\u001b[1;32m    919\u001b[0m     \u001b[38;5;28;01mreturn\u001b[39;00m arr\u001b[38;5;241m.\u001b[39mmap(mapper, na_action\u001b[38;5;241m=\u001b[39mna_action)\n\u001b[0;32m--> 921\u001b[0m \u001b[38;5;28;01mreturn\u001b[39;00m \u001b[43malgorithms\u001b[49m\u001b[38;5;241;43m.\u001b[39;49m\u001b[43mmap_array\u001b[49m\u001b[43m(\u001b[49m\u001b[43marr\u001b[49m\u001b[43m,\u001b[49m\u001b[43m \u001b[49m\u001b[43mmapper\u001b[49m\u001b[43m,\u001b[49m\u001b[43m \u001b[49m\u001b[43mna_action\u001b[49m\u001b[38;5;241;43m=\u001b[39;49m\u001b[43mna_action\u001b[49m\u001b[43m,\u001b[49m\u001b[43m \u001b[49m\u001b[43mconvert\u001b[49m\u001b[38;5;241;43m=\u001b[39;49m\u001b[43mconvert\u001b[49m\u001b[43m)\u001b[49m\n",
      "File \u001b[0;32m~/Library/Caches/pypoetry/virtualenvs/power-dashboard-zNqpkPiA-py3.12/lib/python3.12/site-packages/pandas/core/algorithms.py:1743\u001b[0m, in \u001b[0;36mmap_array\u001b[0;34m(arr, mapper, na_action, convert)\u001b[0m\n\u001b[1;32m   1741\u001b[0m values \u001b[38;5;241m=\u001b[39m arr\u001b[38;5;241m.\u001b[39mastype(\u001b[38;5;28mobject\u001b[39m, copy\u001b[38;5;241m=\u001b[39m\u001b[38;5;28;01mFalse\u001b[39;00m)\n\u001b[1;32m   1742\u001b[0m \u001b[38;5;28;01mif\u001b[39;00m na_action \u001b[38;5;129;01mis\u001b[39;00m \u001b[38;5;28;01mNone\u001b[39;00m:\n\u001b[0;32m-> 1743\u001b[0m     \u001b[38;5;28;01mreturn\u001b[39;00m \u001b[43mlib\u001b[49m\u001b[38;5;241;43m.\u001b[39;49m\u001b[43mmap_infer\u001b[49m\u001b[43m(\u001b[49m\u001b[43mvalues\u001b[49m\u001b[43m,\u001b[49m\u001b[43m \u001b[49m\u001b[43mmapper\u001b[49m\u001b[43m,\u001b[49m\u001b[43m \u001b[49m\u001b[43mconvert\u001b[49m\u001b[38;5;241;43m=\u001b[39;49m\u001b[43mconvert\u001b[49m\u001b[43m)\u001b[49m\n\u001b[1;32m   1744\u001b[0m \u001b[38;5;28;01melse\u001b[39;00m:\n\u001b[1;32m   1745\u001b[0m     \u001b[38;5;28;01mreturn\u001b[39;00m lib\u001b[38;5;241m.\u001b[39mmap_infer_mask(\n\u001b[1;32m   1746\u001b[0m         values, mapper, mask\u001b[38;5;241m=\u001b[39misna(values)\u001b[38;5;241m.\u001b[39mview(np\u001b[38;5;241m.\u001b[39muint8), convert\u001b[38;5;241m=\u001b[39mconvert\n\u001b[1;32m   1747\u001b[0m     )\n",
      "File \u001b[0;32mlib.pyx:2972\u001b[0m, in \u001b[0;36mpandas._libs.lib.map_infer\u001b[0;34m()\u001b[0m\n",
      "File \u001b[0;32m~/repos/power-supply-dashboard-analysis/libs/gridemissions/src/gridemissions/api.py:84\u001b[0m, in \u001b[0;36mretrieve.<locals>.<lambda>\u001b[0;34m(x)\u001b[0m\n\u001b[1;32m     79\u001b[0m field \u001b[38;5;241m=\u001b[39m kwargs[\u001b[38;5;124m\"\u001b[39m\u001b[38;5;124mfield\u001b[39m\u001b[38;5;124m\"\u001b[39m]\n\u001b[1;32m     80\u001b[0m co2\u001b[38;5;241m.\u001b[39mcolumns \u001b[38;5;241m=\u001b[39m co2\u001b[38;5;241m.\u001b[39mcolumns\u001b[38;5;241m.\u001b[39mmap(\n\u001b[1;32m     81\u001b[0m     \u001b[38;5;28;01mlambda\u001b[39;00m x: eia_api_v1\u001b[38;5;241m.\u001b[39mcolumn_name_to_region(x, key_CO2[field])\n\u001b[1;32m     82\u001b[0m )\n\u001b[1;32m     83\u001b[0m elec\u001b[38;5;241m.\u001b[39mcolumns \u001b[38;5;241m=\u001b[39m elec\u001b[38;5;241m.\u001b[39mcolumns\u001b[38;5;241m.\u001b[39mmap(\n\u001b[0;32m---> 84\u001b[0m     \u001b[38;5;28;01mlambda\u001b[39;00m x: \u001b[43meia_api_v1\u001b[49m\u001b[38;5;241;43m.\u001b[39;49m\u001b[43mcolumn_name_to_region\u001b[49m\u001b[43m(\u001b[49m\u001b[43mx\u001b[49m\u001b[43m,\u001b[49m\u001b[43m \u001b[49m\u001b[43mkey_E\u001b[49m\u001b[43m[\u001b[49m\u001b[43mfield\u001b[49m\u001b[43m]\u001b[49m\u001b[43m)\u001b[49m\n\u001b[1;32m     85\u001b[0m )\n\u001b[1;32m     86\u001b[0m co2i \u001b[38;5;241m=\u001b[39m co2 \u001b[38;5;241m/\u001b[39m elec\n\u001b[1;32m     87\u001b[0m co2i\u001b[38;5;241m.\u001b[39mcolumns \u001b[38;5;241m=\u001b[39m co2i\u001b[38;5;241m.\u001b[39mcolumns\u001b[38;5;241m.\u001b[39mmap(\u001b[38;5;28;01mlambda\u001b[39;00m x: key_CO2i[field] \u001b[38;5;241m%\u001b[39m x)\n",
      "File \u001b[0;32m~/repos/power-supply-dashboard-analysis/libs/gridemissions/src/gridemissions/eia_api_v1.py:167\u001b[0m, in \u001b[0;36mcolumn_name_to_region\u001b[0;34m(column_name, key)\u001b[0m\n\u001b[1;32m    165\u001b[0m     parts \u001b[38;5;241m=\u001b[39m [parts[\u001b[38;5;241m0\u001b[39m], parts[\u001b[38;5;241m2\u001b[39m]]\n\u001b[1;32m    166\u001b[0m \u001b[38;5;28;01massert\u001b[39;00m \u001b[38;5;28mlen\u001b[39m(parts) \u001b[38;5;241m==\u001b[39m \u001b[38;5;241m2\u001b[39m\n\u001b[0;32m--> 167\u001b[0m \u001b[38;5;28;01massert\u001b[39;00m column_name\u001b[38;5;241m.\u001b[39mstartswith(parts[\u001b[38;5;241m0\u001b[39m])\n\u001b[1;32m    168\u001b[0m \u001b[38;5;28;01massert\u001b[39;00m column_name\u001b[38;5;241m.\u001b[39mendswith(parts[\u001b[38;5;241m1\u001b[39m])\n\u001b[1;32m    169\u001b[0m \u001b[38;5;28;01mreturn\u001b[39;00m column_name[\u001b[38;5;28mlen\u001b[39m(parts[\u001b[38;5;241m0\u001b[39m]) : (\u001b[38;5;28mlen\u001b[39m(column_name) \u001b[38;5;241m-\u001b[39m \u001b[38;5;28mlen\u001b[39m(parts[\u001b[38;5;241m1\u001b[39m]))]\n",
      "\u001b[0;31mAssertionError\u001b[0m: "
     ]
    }
   ],
   "source": [
    "# Download overlapping CO2i emissions embodied in electricity consumption is the ISNE region\n",
    "data = api.retrieve(\n",
    "    dataset=\"co2i\",\n",
    "    region=\"ISNE\",\n",
    "    field=\"D\",\n",
    ")"
   ]
  },
  {
   "cell_type": "code",
   "execution_count": null,
   "metadata": {},
   "outputs": [],
   "source": []
  }
 ],
 "metadata": {
  "kernelspec": {
   "display_name": "power-dashboard-zNqpkPiA-py3.12",
   "language": "python",
   "name": "python3"
  },
  "language_info": {
   "codemirror_mode": {
    "name": "ipython",
    "version": 3
   },
   "file_extension": ".py",
   "mimetype": "text/x-python",
   "name": "python",
   "nbconvert_exporter": "python",
   "pygments_lexer": "ipython3",
   "version": "3.12.3"
  }
 },
 "nbformat": 4,
 "nbformat_minor": 2
}
