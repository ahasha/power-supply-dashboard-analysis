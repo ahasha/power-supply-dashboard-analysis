{
 "cells": [
  {
   "cell_type": "code",
   "execution_count": 1,
   "metadata": {},
   "outputs": [],
   "source": [
    "import dotenv\n",
    "import pandas as pd\n",
    "import matplotlib.pyplot as plt"
   ]
  },
  {
   "cell_type": "markdown",
   "metadata": {},
   "source": [
    "## Pull ElectricityMaps history"
   ]
  },
  {
   "cell_type": "code",
   "execution_count": 2,
   "metadata": {},
   "outputs": [],
   "source": [
    "import os\n",
    "from supabase import create_client, Client\n",
    "dotenv.load_dotenv()\n",
    "\n",
    "url: str = os.environ.get(\"SUPABASE_URL\")\n",
    "key: str = os.environ.get(\"SUPABASE_KEY\")\n",
    "supabase: Client = create_client(url, key)"
   ]
  },
  {
   "cell_type": "code",
   "execution_count": 3,
   "metadata": {},
   "outputs": [],
   "source": [
    "response = supabase.table(\"electricitymaps-hourly\").select(\"*\").eq(\"testing\", False).execute()"
   ]
  },
  {
   "cell_type": "code",
   "execution_count": 4,
   "metadata": {},
   "outputs": [
    {
     "data": {
      "text/plain": [
       "dict_keys(['id', 'created_at', 'zone', 'carbon_intensity_raw', 'power_breakdown_raw', 'testing'])"
      ]
     },
     "execution_count": 4,
     "metadata": {},
     "output_type": "execute_result"
    }
   ],
   "source": [
    "response.data[0].keys()"
   ]
  },
  {
   "cell_type": "code",
   "execution_count": 5,
   "metadata": {},
   "outputs": [
    {
     "data": {
      "text/plain": [
       "324"
      ]
     },
     "execution_count": 5,
     "metadata": {},
     "output_type": "execute_result"
    }
   ],
   "source": [
    "len(response.data)"
   ]
  },
  {
   "cell_type": "code",
   "execution_count": 6,
   "metadata": {},
   "outputs": [
    {
     "data": {
      "text/plain": [
       "dict_keys(['id', 'created_at', 'zone', 'carbon_intensity_raw', 'power_breakdown_raw', 'testing'])"
      ]
     },
     "execution_count": 6,
     "metadata": {},
     "output_type": "execute_result"
    }
   ],
   "source": [
    "response.data[0].keys()"
   ]
  },
  {
   "cell_type": "code",
   "execution_count": 7,
   "metadata": {},
   "outputs": [
    {
     "data": {
      "text/plain": [
       "[{'zone': 'CA-ON',\n",
       "  'datetime': '2024-08-12T04:00:00.000Z',\n",
       "  'createdAt': '2024-08-09T04:54:32.766Z',\n",
       "  'updatedAt': '2024-08-12T08:48:58.186Z',\n",
       "  'isEstimated': True,\n",
       "  'carbonIntensity': 49,\n",
       "  'estimationMethod': 'TIME_SLICER_AVERAGE',\n",
       "  'emissionFactorType': 'lifecycle'},\n",
       " {'zone': 'CA-ON',\n",
       "  'datetime': '2024-08-12T05:00:00.000Z',\n",
       "  'createdAt': '2024-08-09T05:50:06.777Z',\n",
       "  'updatedAt': '2024-08-12T07:50:29.597Z',\n",
       "  'isEstimated': False,\n",
       "  'carbonIntensity': 44,\n",
       "  'estimationMethod': None,\n",
       "  'emissionFactorType': 'lifecycle'},\n",
       " {'zone': 'CA-ON',\n",
       "  'datetime': '2024-08-12T06:00:00.000Z',\n",
       "  'createdAt': '2024-08-09T06:49:22.181Z',\n",
       "  'updatedAt': '2024-08-12T08:48:58.186Z',\n",
       "  'isEstimated': False,\n",
       "  'carbonIntensity': 40,\n",
       "  'estimationMethod': None,\n",
       "  'emissionFactorType': 'lifecycle'},\n",
       " {'zone': 'CA-ON',\n",
       "  'datetime': '2024-08-12T07:00:00.000Z',\n",
       "  'createdAt': '2024-08-09T07:48:50.341Z',\n",
       "  'updatedAt': '2024-08-12T09:50:15.226Z',\n",
       "  'isEstimated': False,\n",
       "  'carbonIntensity': 42,\n",
       "  'estimationMethod': None,\n",
       "  'emissionFactorType': 'lifecycle'},\n",
       " {'zone': 'CA-ON',\n",
       "  'datetime': '2024-08-12T08:00:00.000Z',\n",
       "  'createdAt': '2024-08-09T09:04:42.748Z',\n",
       "  'updatedAt': '2024-08-12T10:48:28.091Z',\n",
       "  'isEstimated': False,\n",
       "  'carbonIntensity': 44,\n",
       "  'estimationMethod': None,\n",
       "  'emissionFactorType': 'lifecycle'},\n",
       " {'zone': 'CA-ON',\n",
       "  'datetime': '2024-08-12T09:00:00.000Z',\n",
       "  'createdAt': '2024-08-09T09:47:41.249Z',\n",
       "  'updatedAt': '2024-08-12T11:49:04.509Z',\n",
       "  'isEstimated': False,\n",
       "  'carbonIntensity': 52,\n",
       "  'estimationMethod': None,\n",
       "  'emissionFactorType': 'lifecycle'},\n",
       " {'zone': 'CA-ON',\n",
       "  'datetime': '2024-08-12T10:00:00.000Z',\n",
       "  'createdAt': '2024-08-09T10:48:49.331Z',\n",
       "  'updatedAt': '2024-08-12T12:47:22.783Z',\n",
       "  'isEstimated': False,\n",
       "  'carbonIntensity': 63,\n",
       "  'estimationMethod': None,\n",
       "  'emissionFactorType': 'lifecycle'},\n",
       " {'zone': 'CA-ON',\n",
       "  'datetime': '2024-08-12T11:00:00.000Z',\n",
       "  'createdAt': '2024-08-09T11:46:45.624Z',\n",
       "  'updatedAt': '2024-08-12T13:50:24.615Z',\n",
       "  'isEstimated': False,\n",
       "  'carbonIntensity': 77,\n",
       "  'estimationMethod': None,\n",
       "  'emissionFactorType': 'lifecycle'},\n",
       " {'zone': 'CA-ON',\n",
       "  'datetime': '2024-08-12T12:00:00.000Z',\n",
       "  'createdAt': '2024-08-09T12:49:43.710Z',\n",
       "  'updatedAt': '2024-08-12T14:47:19.581Z',\n",
       "  'isEstimated': False,\n",
       "  'carbonIntensity': 91,\n",
       "  'estimationMethod': None,\n",
       "  'emissionFactorType': 'lifecycle'},\n",
       " {'zone': 'CA-ON',\n",
       "  'datetime': '2024-08-12T13:00:00.000Z',\n",
       "  'createdAt': '2024-08-09T13:47:26.593Z',\n",
       "  'updatedAt': '2024-08-12T15:50:14.605Z',\n",
       "  'isEstimated': False,\n",
       "  'carbonIntensity': 95,\n",
       "  'estimationMethod': None,\n",
       "  'emissionFactorType': 'lifecycle'},\n",
       " {'zone': 'CA-ON',\n",
       "  'datetime': '2024-08-12T14:00:00.000Z',\n",
       "  'createdAt': '2024-08-09T14:48:12.394Z',\n",
       "  'updatedAt': '2024-08-12T16:48:08.118Z',\n",
       "  'isEstimated': False,\n",
       "  'carbonIntensity': 96,\n",
       "  'estimationMethod': None,\n",
       "  'emissionFactorType': 'lifecycle'},\n",
       " {'zone': 'CA-ON',\n",
       "  'datetime': '2024-08-12T15:00:00.000Z',\n",
       "  'createdAt': '2024-08-09T15:49:49.935Z',\n",
       "  'updatedAt': '2024-08-12T17:47:54.700Z',\n",
       "  'isEstimated': False,\n",
       "  'carbonIntensity': 108,\n",
       "  'estimationMethod': None,\n",
       "  'emissionFactorType': 'lifecycle'},\n",
       " {'zone': 'CA-ON',\n",
       "  'datetime': '2024-08-12T16:00:00.000Z',\n",
       "  'createdAt': '2024-08-09T16:49:25.502Z',\n",
       "  'updatedAt': '2024-08-12T19:48:18.458Z',\n",
       "  'isEstimated': False,\n",
       "  'carbonIntensity': 123,\n",
       "  'estimationMethod': None,\n",
       "  'emissionFactorType': 'lifecycle'},\n",
       " {'zone': 'CA-ON',\n",
       "  'datetime': '2024-08-12T17:00:00.000Z',\n",
       "  'createdAt': '2024-08-09T17:51:16.875Z',\n",
       "  'updatedAt': '2024-08-12T19:48:18.458Z',\n",
       "  'isEstimated': False,\n",
       "  'carbonIntensity': 134,\n",
       "  'estimationMethod': None,\n",
       "  'emissionFactorType': 'lifecycle'},\n",
       " {'zone': 'CA-ON',\n",
       "  'datetime': '2024-08-12T18:00:00.000Z',\n",
       "  'createdAt': '2024-08-09T18:48:56.502Z',\n",
       "  'updatedAt': '2024-08-12T20:50:10.917Z',\n",
       "  'isEstimated': False,\n",
       "  'carbonIntensity': 129,\n",
       "  'estimationMethod': None,\n",
       "  'emissionFactorType': 'lifecycle'},\n",
       " {'zone': 'CA-ON',\n",
       "  'datetime': '2024-08-12T19:00:00.000Z',\n",
       "  'createdAt': '2024-08-09T19:48:45.216Z',\n",
       "  'updatedAt': '2024-08-12T21:45:53.909Z',\n",
       "  'isEstimated': False,\n",
       "  'carbonIntensity': 121,\n",
       "  'estimationMethod': None,\n",
       "  'emissionFactorType': 'lifecycle'},\n",
       " {'zone': 'CA-ON',\n",
       "  'datetime': '2024-08-12T20:00:00.000Z',\n",
       "  'createdAt': '2024-08-09T20:47:50.950Z',\n",
       "  'updatedAt': '2024-08-12T22:47:46.722Z',\n",
       "  'isEstimated': False,\n",
       "  'carbonIntensity': 115,\n",
       "  'estimationMethod': None,\n",
       "  'emissionFactorType': 'lifecycle'},\n",
       " {'zone': 'CA-ON',\n",
       "  'datetime': '2024-08-12T21:00:00.000Z',\n",
       "  'createdAt': '2024-08-09T21:53:20.433Z',\n",
       "  'updatedAt': '2024-08-12T23:50:21.590Z',\n",
       "  'isEstimated': False,\n",
       "  'carbonIntensity': 118,\n",
       "  'estimationMethod': None,\n",
       "  'emissionFactorType': 'lifecycle'},\n",
       " {'zone': 'CA-ON',\n",
       "  'datetime': '2024-08-12T22:00:00.000Z',\n",
       "  'createdAt': '2024-08-09T22:47:21.364Z',\n",
       "  'updatedAt': '2024-08-13T01:49:50.851Z',\n",
       "  'isEstimated': False,\n",
       "  'carbonIntensity': 121,\n",
       "  'estimationMethod': None,\n",
       "  'emissionFactorType': 'lifecycle'},\n",
       " {'zone': 'CA-ON',\n",
       "  'datetime': '2024-08-12T23:00:00.000Z',\n",
       "  'createdAt': '2024-08-09T23:47:01.989Z',\n",
       "  'updatedAt': '2024-08-13T01:49:50.851Z',\n",
       "  'isEstimated': False,\n",
       "  'carbonIntensity': 121,\n",
       "  'estimationMethod': None,\n",
       "  'emissionFactorType': 'lifecycle'},\n",
       " {'zone': 'CA-ON',\n",
       "  'datetime': '2024-08-13T00:00:00.000Z',\n",
       "  'createdAt': '2024-08-10T00:54:33.839Z',\n",
       "  'updatedAt': '2024-08-13T02:46:58.391Z',\n",
       "  'isEstimated': False,\n",
       "  'carbonIntensity': 124,\n",
       "  'estimationMethod': None,\n",
       "  'emissionFactorType': 'lifecycle'},\n",
       " {'zone': 'CA-ON',\n",
       "  'datetime': '2024-08-13T01:00:00.000Z',\n",
       "  'createdAt': '2024-08-10T01:47:36.687Z',\n",
       "  'updatedAt': '2024-08-13T02:47:35.438Z',\n",
       "  'isEstimated': False,\n",
       "  'carbonIntensity': 126,\n",
       "  'estimationMethod': None,\n",
       "  'emissionFactorType': 'lifecycle'},\n",
       " {'zone': 'CA-ON',\n",
       "  'datetime': '2024-08-13T02:00:00.000Z',\n",
       "  'createdAt': '2024-08-10T02:48:44.825Z',\n",
       "  'updatedAt': '2024-08-13T02:47:35.438Z',\n",
       "  'isEstimated': True,\n",
       "  'carbonIntensity': 124,\n",
       "  'estimationMethod': 'TIME_SLICER_AVERAGE',\n",
       "  'emissionFactorType': 'lifecycle'},\n",
       " {'zone': 'CA-ON',\n",
       "  'datetime': '2024-08-13T03:00:00.000Z',\n",
       "  'createdAt': '2024-08-10T03:50:30.436Z',\n",
       "  'updatedAt': '2024-08-13T02:47:35.438Z',\n",
       "  'isEstimated': True,\n",
       "  'carbonIntensity': 115,\n",
       "  'estimationMethod': 'TIME_SLICER_AVERAGE',\n",
       "  'emissionFactorType': 'lifecycle'}]"
      ]
     },
     "execution_count": 7,
     "metadata": {},
     "output_type": "execute_result"
    }
   ],
   "source": [
    "response.data[0]['carbon_intensity_raw']['history']"
   ]
  },
  {
   "cell_type": "code",
   "execution_count": 8,
   "metadata": {},
   "outputs": [
    {
     "data": {
      "text/html": [
       "<div>\n",
       "<style scoped>\n",
       "    .dataframe tbody tr th:only-of-type {\n",
       "        vertical-align: middle;\n",
       "    }\n",
       "\n",
       "    .dataframe tbody tr th {\n",
       "        vertical-align: top;\n",
       "    }\n",
       "\n",
       "    .dataframe thead th {\n",
       "        text-align: right;\n",
       "    }\n",
       "</style>\n",
       "<table border=\"1\" class=\"dataframe\">\n",
       "  <thead>\n",
       "    <tr style=\"text-align: right;\">\n",
       "      <th></th>\n",
       "      <th>zone</th>\n",
       "      <th>datetime</th>\n",
       "      <th>createdAt</th>\n",
       "      <th>updatedAt</th>\n",
       "      <th>isEstimated</th>\n",
       "      <th>carbonIntensity</th>\n",
       "      <th>estimationMethod</th>\n",
       "      <th>emissionFactorType</th>\n",
       "    </tr>\n",
       "  </thead>\n",
       "  <tbody>\n",
       "    <tr>\n",
       "      <th>0</th>\n",
       "      <td>CA-ON</td>\n",
       "      <td>2024-08-12T04:00:00.000Z</td>\n",
       "      <td>2024-08-09T04:54:32.766Z</td>\n",
       "      <td>2024-08-12T08:48:58.186Z</td>\n",
       "      <td>True</td>\n",
       "      <td>49</td>\n",
       "      <td>TIME_SLICER_AVERAGE</td>\n",
       "      <td>lifecycle</td>\n",
       "    </tr>\n",
       "    <tr>\n",
       "      <th>72</th>\n",
       "      <td>CA-ON</td>\n",
       "      <td>2024-08-12T05:00:00.000Z</td>\n",
       "      <td>2024-08-09T05:50:06.777Z</td>\n",
       "      <td>2024-08-12T07:50:29.597Z</td>\n",
       "      <td>False</td>\n",
       "      <td>44</td>\n",
       "      <td>None</td>\n",
       "      <td>lifecycle</td>\n",
       "    </tr>\n",
       "    <tr>\n",
       "      <th>1</th>\n",
       "      <td>CA-ON</td>\n",
       "      <td>2024-08-12T05:00:00.000Z</td>\n",
       "      <td>2024-08-09T05:50:06.777Z</td>\n",
       "      <td>2024-08-12T07:50:29.597Z</td>\n",
       "      <td>False</td>\n",
       "      <td>44</td>\n",
       "      <td>None</td>\n",
       "      <td>lifecycle</td>\n",
       "    </tr>\n",
       "    <tr>\n",
       "      <th>2</th>\n",
       "      <td>CA-ON</td>\n",
       "      <td>2024-08-12T06:00:00.000Z</td>\n",
       "      <td>2024-08-09T06:49:22.181Z</td>\n",
       "      <td>2024-08-12T08:48:58.186Z</td>\n",
       "      <td>False</td>\n",
       "      <td>40</td>\n",
       "      <td>None</td>\n",
       "      <td>lifecycle</td>\n",
       "    </tr>\n",
       "    <tr>\n",
       "      <th>144</th>\n",
       "      <td>CA-ON</td>\n",
       "      <td>2024-08-12T06:00:00.000Z</td>\n",
       "      <td>2024-08-09T06:49:22.181Z</td>\n",
       "      <td>2024-08-12T08:48:58.186Z</td>\n",
       "      <td>False</td>\n",
       "      <td>40</td>\n",
       "      <td>None</td>\n",
       "      <td>lifecycle</td>\n",
       "    </tr>\n",
       "    <tr>\n",
       "      <th>...</th>\n",
       "      <td>...</td>\n",
       "      <td>...</td>\n",
       "      <td>...</td>\n",
       "      <td>...</td>\n",
       "      <td>...</td>\n",
       "      <td>...</td>\n",
       "      <td>...</td>\n",
       "      <td>...</td>\n",
       "    </tr>\n",
       "    <tr>\n",
       "      <th>7654</th>\n",
       "      <td>CA-ON</td>\n",
       "      <td>2024-08-17T12:00:00.000Z</td>\n",
       "      <td>2024-08-14T12:48:24.875Z</td>\n",
       "      <td>2024-08-17T12:48:13.059Z</td>\n",
       "      <td>True</td>\n",
       "      <td>87</td>\n",
       "      <td>TIME_SLICER_AVERAGE</td>\n",
       "      <td>lifecycle</td>\n",
       "    </tr>\n",
       "    <tr>\n",
       "      <th>7583</th>\n",
       "      <td>CA-ON</td>\n",
       "      <td>2024-08-17T12:00:00.000Z</td>\n",
       "      <td>2024-08-14T12:48:24.875Z</td>\n",
       "      <td>2024-08-17T11:48:49.697Z</td>\n",
       "      <td>True</td>\n",
       "      <td>84</td>\n",
       "      <td>TIME_SLICER_AVERAGE</td>\n",
       "      <td>lifecycle</td>\n",
       "    </tr>\n",
       "    <tr>\n",
       "      <th>7655</th>\n",
       "      <td>CA-ON</td>\n",
       "      <td>2024-08-17T13:00:00.000Z</td>\n",
       "      <td>2024-08-14T13:45:14.543Z</td>\n",
       "      <td>2024-08-17T12:48:13.059Z</td>\n",
       "      <td>True</td>\n",
       "      <td>91</td>\n",
       "      <td>TIME_SLICER_AVERAGE</td>\n",
       "      <td>lifecycle</td>\n",
       "    </tr>\n",
       "    <tr>\n",
       "      <th>7726</th>\n",
       "      <td>CA-ON</td>\n",
       "      <td>2024-08-17T13:00:00.000Z</td>\n",
       "      <td>2024-08-14T13:45:14.543Z</td>\n",
       "      <td>2024-08-17T13:49:32.893Z</td>\n",
       "      <td>True</td>\n",
       "      <td>81</td>\n",
       "      <td>TIME_SLICER_AVERAGE</td>\n",
       "      <td>lifecycle</td>\n",
       "    </tr>\n",
       "    <tr>\n",
       "      <th>7727</th>\n",
       "      <td>CA-ON</td>\n",
       "      <td>2024-08-17T14:00:00.000Z</td>\n",
       "      <td>2024-08-14T14:48:30.265Z</td>\n",
       "      <td>2024-08-17T13:49:32.893Z</td>\n",
       "      <td>True</td>\n",
       "      <td>82</td>\n",
       "      <td>TIME_SLICER_AVERAGE</td>\n",
       "      <td>lifecycle</td>\n",
       "    </tr>\n",
       "  </tbody>\n",
       "</table>\n",
       "<p>2592 rows × 8 columns</p>\n",
       "</div>"
      ],
      "text/plain": [
       "       zone                  datetime                 createdAt  \\\n",
       "0     CA-ON  2024-08-12T04:00:00.000Z  2024-08-09T04:54:32.766Z   \n",
       "72    CA-ON  2024-08-12T05:00:00.000Z  2024-08-09T05:50:06.777Z   \n",
       "1     CA-ON  2024-08-12T05:00:00.000Z  2024-08-09T05:50:06.777Z   \n",
       "2     CA-ON  2024-08-12T06:00:00.000Z  2024-08-09T06:49:22.181Z   \n",
       "144   CA-ON  2024-08-12T06:00:00.000Z  2024-08-09T06:49:22.181Z   \n",
       "...     ...                       ...                       ...   \n",
       "7654  CA-ON  2024-08-17T12:00:00.000Z  2024-08-14T12:48:24.875Z   \n",
       "7583  CA-ON  2024-08-17T12:00:00.000Z  2024-08-14T12:48:24.875Z   \n",
       "7655  CA-ON  2024-08-17T13:00:00.000Z  2024-08-14T13:45:14.543Z   \n",
       "7726  CA-ON  2024-08-17T13:00:00.000Z  2024-08-14T13:45:14.543Z   \n",
       "7727  CA-ON  2024-08-17T14:00:00.000Z  2024-08-14T14:48:30.265Z   \n",
       "\n",
       "                     updatedAt  isEstimated  carbonIntensity  \\\n",
       "0     2024-08-12T08:48:58.186Z         True               49   \n",
       "72    2024-08-12T07:50:29.597Z        False               44   \n",
       "1     2024-08-12T07:50:29.597Z        False               44   \n",
       "2     2024-08-12T08:48:58.186Z        False               40   \n",
       "144   2024-08-12T08:48:58.186Z        False               40   \n",
       "...                        ...          ...              ...   \n",
       "7654  2024-08-17T12:48:13.059Z         True               87   \n",
       "7583  2024-08-17T11:48:49.697Z         True               84   \n",
       "7655  2024-08-17T12:48:13.059Z         True               91   \n",
       "7726  2024-08-17T13:49:32.893Z         True               81   \n",
       "7727  2024-08-17T13:49:32.893Z         True               82   \n",
       "\n",
       "         estimationMethod emissionFactorType  \n",
       "0     TIME_SLICER_AVERAGE          lifecycle  \n",
       "72                   None          lifecycle  \n",
       "1                    None          lifecycle  \n",
       "2                    None          lifecycle  \n",
       "144                  None          lifecycle  \n",
       "...                   ...                ...  \n",
       "7654  TIME_SLICER_AVERAGE          lifecycle  \n",
       "7583  TIME_SLICER_AVERAGE          lifecycle  \n",
       "7655  TIME_SLICER_AVERAGE          lifecycle  \n",
       "7726  TIME_SLICER_AVERAGE          lifecycle  \n",
       "7727  TIME_SLICER_AVERAGE          lifecycle  \n",
       "\n",
       "[2592 rows x 8 columns]"
      ]
     },
     "execution_count": 8,
     "metadata": {},
     "output_type": "execute_result"
    }
   ],
   "source": [
    "# Generate a big ol' dataframe by iterating over all the responses\n",
    "all_records = pd.DataFrame.from_records([\n",
    "    record\n",
    "    for resp in response.data\n",
    "    for record in resp['carbon_intensity_raw']['history']\n",
    "])\n",
    "all_records.loc[all_records.zone == \"CA-ON\"].sort_values(by='datetime', ascending=True)\n"
   ]
  },
  {
   "cell_type": "markdown",
   "metadata": {},
   "source": [
    "### EDA"
   ]
  },
  {
   "cell_type": "code",
   "execution_count": 9,
   "metadata": {},
   "outputs": [],
   "source": [
    "# all_records.loc[all_records.zone == \"CA-ON\"].groupby(\"datetime\").count()"
   ]
  },
  {
   "cell_type": "code",
   "execution_count": 10,
   "metadata": {},
   "outputs": [],
   "source": [
    "#  all_records.loc[\n",
    "#     (all_records.zone == \"CA-ON\") & (all_records.datetime == \"2024-08-12T19:00:00.000Z\")\n",
    "# ]"
   ]
  },
  {
   "cell_type": "code",
   "execution_count": 11,
   "metadata": {},
   "outputs": [],
   "source": [
    "# all_records.drop_duplicates().groupby([\"zone\", \"datetime\"])['carbonIntensity'].count().sort_values(ascending=False)"
   ]
  },
  {
   "cell_type": "code",
   "execution_count": 12,
   "metadata": {},
   "outputs": [],
   "source": [
    "# all_records.drop_duplicates().query(\"zone == 'US-NE-ISNE' & datetime == '2024-08-13T05:00:00.000Z'\").drop_duplicates()"
   ]
  },
  {
   "cell_type": "code",
   "execution_count": 13,
   "metadata": {},
   "outputs": [],
   "source": [
    "# Within each zone,datetime group, select the record with maximum updatedAt value\n",
    "idx = all_records.groupby([\"zone\", \"datetime\"])['updatedAt'].idxmax()\n",
    "filtered_records = all_records.loc[idx].reset_index(drop=True)\n",
    "\n",
    "datetime_cols = [\"datetime\", \"createdAt\", \"updatedAt\"]\n",
    "filtered_records[datetime_cols] = filtered_records[datetime_cols].apply(pd.to_datetime).apply(lambda x: x.dt.tz_convert(\"America/New_York\"))"
   ]
  },
  {
   "cell_type": "code",
   "execution_count": 14,
   "metadata": {},
   "outputs": [],
   "source": [
    "# filtered_records.query(\"zone == 'US-NE-ISNE' & datetime == '2024-08-13T05:00:00.000Z'\")"
   ]
  },
  {
   "cell_type": "markdown",
   "metadata": {},
   "source": [
    "### Plot history"
   ]
  },
  {
   "cell_type": "code",
   "execution_count": 15,
   "metadata": {},
   "outputs": [
    {
     "data": {
      "image/png": "[encoded data removed]",
      "text/plain": [
       "<Figure size 640x480 with 1 Axes>"
      ]
     },
     "metadata": {},
     "output_type": "display_data"
    }
   ],
   "source": [
    "import matplotlib.dates as mdates\n",
    "fig, ax = plt.subplots()\n",
    "\n",
    "for zone in filtered_records.zone.unique():\n",
    "    zone_data = filtered_records.loc[filtered_records.zone == zone]\n",
    "    ax.plot(zone_data.datetime, zone_data.carbonIntensity, label=zone)\n",
    "\n",
    "# Apply gray background to nighttime hours (9 PM - 5 AM)\n",
    "dates = filtered_records.datetime.dt.normalize().unique()\n",
    "\n",
    "for date in dates:\n",
    "    # Define the night interval for each date\n",
    "    night_start = date + pd.Timedelta(hours=-3)  # 9 PM\n",
    "    night_end = date + pd.Timedelta(hours=5)    # 5 AM next day\n",
    "    noon = date + pd.Timedelta(hours=12)        # 12 PM\n",
    "\n",
    "    # Add the shaded region directly using the localized timestamps\n",
    "    ax.axvspan(night_start, night_end, color='gray', alpha=0.2)\n",
    "    ax.axvline(noon, color='red', linestyle='--')\n",
    "\n",
    "# Set major locator to every hour\n",
    "ax.xaxis.set_major_locator(mdates.HourLocator(interval=6, tz=\"America/New_York\"))\n",
    "\n",
    "# Set major formatter to show date and time\n",
    "ax.xaxis.set_major_formatter(mdates.DateFormatter('%Y-%m-%d %H:%M', tz=\"America/New_York\"))\n",
    "\n",
    "# Optional: rotate and align the tick labels so they look better\n",
    "plt.setp(ax.get_xticklabels(), rotation=45, ha='right')\n",
    "# Optional: add grid for better readability\n",
    "ax.grid(True)\n",
    "ax.legend(bbox_to_anchor=(1, 0.7))\n",
    "ax.set_title(\"Carbon Intensity by Zone\")\n",
    "ax.set_ylabel(\"Carbon Intensity (gCO2eq/kWh)\")\n",
    "ax.set_xlabel(\"Date and Time\")\n",
    "fig.autofmt_xdate()\n",
    "plt.show()"
   ]
  },
  {
   "cell_type": "code",
   "execution_count": 16,
   "metadata": {},
   "outputs": [
    {
     "data": {
      "text/plain": [
       "Timestamp('2024-08-17 14:00:00+0000', tz='UTC')"
      ]
     },
     "execution_count": 16,
     "metadata": {},
     "output_type": "execute_result"
    }
   ],
   "source": [
    "filtered_records.datetime.max().tz_convert(\"UTC\")"
   ]
  },
  {
   "cell_type": "code",
   "execution_count": 21,
   "metadata": {},
   "outputs": [
    {
     "data": {
      "text/plain": [
       "(131, 8)"
      ]
     },
     "execution_count": 21,
     "metadata": {},
     "output_type": "execute_result"
    }
   ],
   "source": [
    "\n",
    "filtered_records.query(\"zone == 'US-NE-ISNE'\").shape"
   ]
  },
  {
   "cell_type": "markdown",
   "metadata": {},
   "source": [
    "## Retrieve overlapping carbon intensity from gridemissions API"
   ]
  },
  {
   "cell_type": "code",
   "execution_count": 22,
   "metadata": {},
   "outputs": [],
   "source": [
    "from gridemissions import api"
   ]
  },
  {
   "cell_type": "code",
   "execution_count": 23,
   "metadata": {},
   "outputs": [
    {
     "data": {
      "text/plain": [
       "{'DATA_PATH': PosixPath('/Users/alexhasha/data/gridemissions'),\n",
       " 'TMP_PATH': PosixPath('/Users/alexhasha/tmp/gridemissions'),\n",
       " 'ENV': 'PROD',\n",
       " 'API_URL': 'https://api.gridemissions.com',\n",
       " 'S3_URL': 'https://gridemissions.s3.us-east-2.amazonaws.com/',\n",
       " 'DATA_PATH_LIVE': PosixPath('/Users/alexhasha/data/gridemissions/live')}"
      ]
     },
     "execution_count": 23,
     "metadata": {},
     "output_type": "execute_result"
    }
   ],
   "source": [
    "from gridemissions import config\n",
    "config"
   ]
  },
  {
   "cell_type": "code",
   "execution_count": 38,
   "metadata": {},
   "outputs": [
    {
     "name": "stderr",
     "output_type": "stream",
     "text": [
      "500 error: DEBUG for more info\n"
     ]
    }
   ],
   "source": [
    "# Download overlapping CO2i emissions embodied in electricity consumption is the ISNE region\n",
    "co2 = api.retrieve(\n",
    "    dataset=\"co2\",\n",
    "    region=[\"ISNE\"],\n",
    "    field=\"D\",\n",
    "    start=\"20240719\",\n",
    "    end=\"20240721\",\n",
    ")"
   ]
  },
  {
   "cell_type": "code",
   "execution_count": 37,
   "metadata": {},
   "outputs": [
    {
     "data": {
      "text/plain": [
       "(Timestamp('2024-07-20 20:00:00'), Timestamp('2024-07-21 20:00:00'))"
      ]
     },
     "execution_count": 37,
     "metadata": {},
     "output_type": "execute_result"
    }
   ],
   "source": [
    "co2.index.min(), co2.index.max()"
   ]
  },
  {
   "cell_type": "code",
   "execution_count": 41,
   "metadata": {},
   "outputs": [],
   "source": [
    "df3 = pd.read_csv(\n",
    "    \"/Users/alexhasha/data/gridemissions/EIA_Grid_Monitor/downloads/EIA930_INTERCHANGE_2024_Jan_Jun.csv\",\n",
    "    parse_dates=True,\n",
    ")"
   ]
  },
  {
   "cell_type": "code",
   "execution_count": 42,
   "metadata": {},
   "outputs": [
    {
     "data": {
      "text/html": [
       "<div>\n",
       "<style scoped>\n",
       "    .dataframe tbody tr th:only-of-type {\n",
       "        vertical-align: middle;\n",
       "    }\n",
       "\n",
       "    .dataframe tbody tr th {\n",
       "        vertical-align: top;\n",
       "    }\n",
       "\n",
       "    .dataframe thead th {\n",
       "        text-align: right;\n",
       "    }\n",
       "</style>\n",
       "<table border=\"1\" class=\"dataframe\">\n",
       "  <thead>\n",
       "    <tr style=\"text-align: right;\">\n",
       "      <th></th>\n",
       "      <th>Balancing Authority</th>\n",
       "      <th>Data Date</th>\n",
       "      <th>Hour Number</th>\n",
       "      <th>Directly Interconnected Balancing Authority</th>\n",
       "      <th>Interchange (MW)</th>\n",
       "      <th>Local Time at End of Hour</th>\n",
       "      <th>UTC Time at End of Hour</th>\n",
       "      <th>Region</th>\n",
       "      <th>DIBA_Region</th>\n",
       "    </tr>\n",
       "  </thead>\n",
       "  <tbody>\n",
       "    <tr>\n",
       "      <th>0</th>\n",
       "      <td>AECI</td>\n",
       "      <td>01/01/2024</td>\n",
       "      <td>1</td>\n",
       "      <td>MISO</td>\n",
       "      <td>74</td>\n",
       "      <td>01/01/2024 1:00:00 AM</td>\n",
       "      <td>01/01/2024 7:00:00 AM</td>\n",
       "      <td>MIDW</td>\n",
       "      <td>MIDW</td>\n",
       "    </tr>\n",
       "    <tr>\n",
       "      <th>1</th>\n",
       "      <td>AECI</td>\n",
       "      <td>01/01/2024</td>\n",
       "      <td>1</td>\n",
       "      <td>SPA</td>\n",
       "      <td>-233</td>\n",
       "      <td>01/01/2024 1:00:00 AM</td>\n",
       "      <td>01/01/2024 7:00:00 AM</td>\n",
       "      <td>MIDW</td>\n",
       "      <td>CENT</td>\n",
       "    </tr>\n",
       "    <tr>\n",
       "      <th>2</th>\n",
       "      <td>AECI</td>\n",
       "      <td>01/01/2024</td>\n",
       "      <td>1</td>\n",
       "      <td>SWPP</td>\n",
       "      <td>-87</td>\n",
       "      <td>01/01/2024 1:00:00 AM</td>\n",
       "      <td>01/01/2024 7:00:00 AM</td>\n",
       "      <td>MIDW</td>\n",
       "      <td>CENT</td>\n",
       "    </tr>\n",
       "    <tr>\n",
       "      <th>3</th>\n",
       "      <td>AECI</td>\n",
       "      <td>01/01/2024</td>\n",
       "      <td>1</td>\n",
       "      <td>TVA</td>\n",
       "      <td>104</td>\n",
       "      <td>01/01/2024 1:00:00 AM</td>\n",
       "      <td>01/01/2024 7:00:00 AM</td>\n",
       "      <td>MIDW</td>\n",
       "      <td>TEN</td>\n",
       "    </tr>\n",
       "    <tr>\n",
       "      <th>4</th>\n",
       "      <td>AECI</td>\n",
       "      <td>01/01/2024</td>\n",
       "      <td>2</td>\n",
       "      <td>MISO</td>\n",
       "      <td>173</td>\n",
       "      <td>01/01/2024 2:00:00 AM</td>\n",
       "      <td>01/01/2024 8:00:00 AM</td>\n",
       "      <td>MIDW</td>\n",
       "      <td>MIDW</td>\n",
       "    </tr>\n",
       "  </tbody>\n",
       "</table>\n",
       "</div>"
      ],
      "text/plain": [
       "  Balancing Authority   Data Date  Hour Number  \\\n",
       "0                AECI  01/01/2024            1   \n",
       "1                AECI  01/01/2024            1   \n",
       "2                AECI  01/01/2024            1   \n",
       "3                AECI  01/01/2024            1   \n",
       "4                AECI  01/01/2024            2   \n",
       "\n",
       "  Directly Interconnected Balancing Authority Interchange (MW)  \\\n",
       "0                                        MISO               74   \n",
       "1                                         SPA             -233   \n",
       "2                                        SWPP              -87   \n",
       "3                                         TVA              104   \n",
       "4                                        MISO              173   \n",
       "\n",
       "  Local Time at End of Hour UTC Time at End of Hour Region DIBA_Region  \n",
       "0     01/01/2024 1:00:00 AM   01/01/2024 7:00:00 AM   MIDW        MIDW  \n",
       "1     01/01/2024 1:00:00 AM   01/01/2024 7:00:00 AM   MIDW        CENT  \n",
       "2     01/01/2024 1:00:00 AM   01/01/2024 7:00:00 AM   MIDW        CENT  \n",
       "3     01/01/2024 1:00:00 AM   01/01/2024 7:00:00 AM   MIDW         TEN  \n",
       "4     01/01/2024 2:00:00 AM   01/01/2024 8:00:00 AM   MIDW        MIDW  "
      ]
     },
     "execution_count": 42,
     "metadata": {},
     "output_type": "execute_result"
    }
   ],
   "source": [
    "df3.head()"
   ]
  },
  {
   "cell_type": "code",
   "execution_count": 43,
   "metadata": {},
   "outputs": [
    {
     "data": {
      "text/plain": [
       "'06/30/2024'"
      ]
     },
     "execution_count": 43,
     "metadata": {},
     "output_type": "execute_result"
    }
   ],
   "source": [
    "df3[\"Data Date\"].max()"
   ]
  },
  {
   "cell_type": "code",
   "execution_count": 59,
   "metadata": {},
   "outputs": [
    {
     "data": {
      "text/plain": [
       "True"
      ]
     },
     "execution_count": 59,
     "metadata": {},
     "output_type": "execute_result"
    }
   ],
   "source": [
    "import gridemissions as ge\n",
    "from gridemissions import eia_api_v2 as eia_api\n",
    "from dotenv import load_dotenv\n",
    "from gridemissions.workflows import make_dataset\n",
    "from pathlib import Path\n",
    "\n",
    "load_dotenv()"
   ]
  },
  {
   "cell_type": "code",
   "execution_count": 52,
   "metadata": {},
   "outputs": [],
   "source": [
    "ge.config[\"EIA_API_KEY\"] = os.environ.get(\"EIA_API_KEY\")"
   ]
  },
  {
   "cell_type": "code",
   "execution_count": 53,
   "metadata": {},
   "outputs": [],
   "source": [
    "df = eia_api.scrape(\"2024-07-01\", \"2024-08-16\")"
   ]
  },
  {
   "cell_type": "code",
   "execution_count": 54,
   "metadata": {},
   "outputs": [
    {
     "data": {
      "text/plain": [
       "(1105, 752)"
      ]
     },
     "execution_count": 54,
     "metadata": {},
     "output_type": "execute_result"
    }
   ],
   "source": [
    "df.shape"
   ]
  },
  {
   "cell_type": "code",
   "execution_count": 57,
   "metadata": {},
   "outputs": [
    {
     "data": {
      "text/plain": [
       "('2024-07-01T00', '2024-08-16T00')"
      ]
     },
     "execution_count": 57,
     "metadata": {},
     "output_type": "execute_result"
    }
   ],
   "source": [
    "df.index.min(), df.index.max()"
   ]
  },
  {
   "cell_type": "code",
   "execution_count": 60,
   "metadata": {},
   "outputs": [],
   "source": [
    "folder_out = Path(\"../data/processed/ge_make_dataset\")\n",
    "folder_out.mkdir(exist_ok=True)"
   ]
  },
  {
   "cell_type": "code",
   "execution_count": 61,
   "metadata": {},
   "outputs": [],
   "source": [
    "df.to_csv(\"../data/processed/ge_make_dataset/data_raw.csv\")"
   ]
  },
  {
   "cell_type": "code",
   "execution_count": 63,
   "metadata": {},
   "outputs": [
    {
     "name": "stderr",
     "output_type": "stream",
     "text": [
      "Regions for D do not match overall regions!\n",
      "Regions for NG do not match overall regions!\n",
      "Regions for TI do not match overall regions!\n",
      "Regions for ID do not match overall regions!\n",
      "Inconsistencies in trade reporting - DEBUG has missing links\n",
      "/Users/alexhasha/repos/power-supply-dashboard-analysis/libs/gridemissions/src/gridemissions/clean.py:95: FutureWarning: Setting an item of incompatible dtype is deprecated and will raise in a future error of pandas. Value '[2238.5 2367.5 2320.5 ... 1940.5 2141.5 2264.5]' has dtype incompatible with int64, please explicitly cast to a compatible dtype first.\n",
      "  data.df.loc[:, data.KEY[\"NG\"] % ba] += 0.5\n",
      "/Users/alexhasha/repos/power-supply-dashboard-analysis/libs/gridemissions/src/gridemissions/clean.py:96: FutureWarning: Setting an item of incompatible dtype is deprecated and will raise in a future error of pandas. Value '[2237.5 2366.5 2319.5 ... 1939.5 2140.5 2263.5]' has dtype incompatible with int64, please explicitly cast to a compatible dtype first.\n",
      "  data.df.loc[:, data.KEY[\"TI\"] % ba] -= 0.5\n",
      "/Users/alexhasha/repos/power-supply-dashboard-analysis/libs/gridemissions/src/gridemissions/clean.py:96: FutureWarning: Setting an item of incompatible dtype is deprecated and will raise in a future error of pandas. Value '[410.5 476.5 480.5 ... 561.5 561.5 559.5]' has dtype incompatible with int64, please explicitly cast to a compatible dtype first.\n",
      "  data.df.loc[:, data.KEY[\"TI\"] % ba] -= 0.5\n",
      "/Users/alexhasha/repos/power-supply-dashboard-analysis/libs/gridemissions/src/gridemissions/clean.py:95: FutureWarning: Setting an item of incompatible dtype is deprecated and will raise in a future error of pandas. Value '[2306.5 2337.5 2276.5 ... 2114.5 2074.5 2137.5]' has dtype incompatible with int64, please explicitly cast to a compatible dtype first.\n",
      "  data.df.loc[:, data.KEY[\"NG\"] % ba] += 0.5\n",
      "/Users/alexhasha/repos/power-supply-dashboard-analysis/libs/gridemissions/src/gridemissions/clean.py:96: FutureWarning: Setting an item of incompatible dtype is deprecated and will raise in a future error of pandas. Value '[2305.5 2336.5 2275.5 ... 2113.5 2073.5 2136.5]' has dtype incompatible with int64, please explicitly cast to a compatible dtype first.\n",
      "  data.df.loc[:, data.KEY[\"TI\"] % ba] -= 0.5\n",
      "/Users/alexhasha/repos/power-supply-dashboard-analysis/libs/gridemissions/src/gridemissions/clean.py:95: FutureWarning: Setting an item of incompatible dtype is deprecated and will raise in a future error of pandas. Value '[ 4.5  9.5 28.5 ... 17.5 21.5 16.5]' has dtype incompatible with int64, please explicitly cast to a compatible dtype first.\n",
      "  data.df.loc[:, data.KEY[\"NG\"] % ba] += 0.5\n",
      "/Users/alexhasha/repos/power-supply-dashboard-analysis/libs/gridemissions/src/gridemissions/clean.py:96: FutureWarning: Setting an item of incompatible dtype is deprecated and will raise in a future error of pandas. Value '[ 3.5  8.5 27.5 ... 16.5 20.5 15.5]' has dtype incompatible with int64, please explicitly cast to a compatible dtype first.\n",
      "  data.df.loc[:, data.KEY[\"TI\"] % ba] -= 0.5\n",
      "/Users/alexhasha/repos/power-supply-dashboard-analysis/libs/gridemissions/src/gridemissions/clean.py:95: FutureWarning: Setting an item of incompatible dtype is deprecated and will raise in a future error of pandas. Value '[929.5 929.5 933.5 ... 933.5 931.5 932.5]' has dtype incompatible with int64, please explicitly cast to a compatible dtype first.\n",
      "  data.df.loc[:, data.KEY[\"NG\"] % ba] += 0.5\n",
      "/Users/alexhasha/repos/power-supply-dashboard-analysis/libs/gridemissions/src/gridemissions/clean.py:96: FutureWarning: Setting an item of incompatible dtype is deprecated and will raise in a future error of pandas. Value '[928.5 928.5 932.5 ... 932.5 930.5 931.5]' has dtype incompatible with int64, please explicitly cast to a compatible dtype first.\n",
      "  data.df.loc[:, data.KEY[\"TI\"] % ba] -= 0.5\n",
      "/Users/alexhasha/repos/power-supply-dashboard-analysis/libs/gridemissions/src/gridemissions/clean.py:96: FutureWarning: Setting an item of incompatible dtype is deprecated and will raise in a future error of pandas. Value '[322.5  95.5  41.5 ... 993.5 809.5 656.5]' has dtype incompatible with int64, please explicitly cast to a compatible dtype first.\n",
      "  data.df.loc[:, data.KEY[\"TI\"] % ba] -= 0.5\n",
      "/Users/alexhasha/repos/power-supply-dashboard-analysis/libs/gridemissions/src/gridemissions/clean.py:95: FutureWarning: Setting an item of incompatible dtype is deprecated and will raise in a future error of pandas. Value '[ 7.5 19.5 27.5 ... 12.5 18.5 23.5]' has dtype incompatible with int64, please explicitly cast to a compatible dtype first.\n",
      "  data.df.loc[:, data.KEY[\"NG\"] % ba] += 0.5\n",
      "/Users/alexhasha/repos/power-supply-dashboard-analysis/libs/gridemissions/src/gridemissions/clean.py:96: FutureWarning: Setting an item of incompatible dtype is deprecated and will raise in a future error of pandas. Value '[ 6.5 18.5 26.5 ... 11.5 17.5 22.5]' has dtype incompatible with int64, please explicitly cast to a compatible dtype first.\n",
      "  data.df.loc[:, data.KEY[\"TI\"] % ba] -= 0.5\n",
      "/Users/alexhasha/repos/power-supply-dashboard-analysis/libs/gridemissions/src/gridemissions/clean.py:95: FutureWarning: Setting an item of incompatible dtype is deprecated and will raise in a future error of pandas. Value '[151.5  12.5   0.5 ... 159.5 161.5 159.5]' has dtype incompatible with int64, please explicitly cast to a compatible dtype first.\n",
      "  data.df.loc[:, data.KEY[\"NG\"] % ba] += 0.5\n",
      "/Users/alexhasha/repos/power-supply-dashboard-analysis/libs/gridemissions/src/gridemissions/clean.py:96: FutureWarning: Setting an item of incompatible dtype is deprecated and will raise in a future error of pandas. Value '[146.5   9.5  -0.5 ... 155.5 156.5 153.5]' has dtype incompatible with int64, please explicitly cast to a compatible dtype first.\n",
      "  data.df.loc[:, data.KEY[\"TI\"] % ba] -= 0.5\n",
      "/Users/alexhasha/repos/power-supply-dashboard-analysis/libs/gridemissions/src/gridemissions/clean.py:148: FutureWarning: Setting an item of incompatible dtype is deprecated and will raise in a future error of pandas. Value '[26770. 25656. 24645. ... 29684. 29353. 28781.]' has dtype incompatible with int64, please explicitly cast to a compatible dtype first.\n",
      "  data.df.loc[:, col] = s.where(\n",
      "/Users/alexhasha/repos/power-supply-dashboard-analysis/libs/gridemissions/src/gridemissions/clean.py:148: FutureWarning: Setting an item of incompatible dtype is deprecated and will raise in a future error of pandas. Value '[5134. 5173. 4866. ... 4666. 4753. 4879.]' has dtype incompatible with int64, please explicitly cast to a compatible dtype first.\n",
      "  data.df.loc[:, col] = s.where(\n",
      "/Users/alexhasha/repos/power-supply-dashboard-analysis/libs/gridemissions/src/gridemissions/clean.py:148: FutureWarning: Setting an item of incompatible dtype is deprecated and will raise in a future error of pandas. Value '[3649. 3743. 3759. ... 3102. 3310. 3491.]' has dtype incompatible with int64, please explicitly cast to a compatible dtype first.\n",
      "  data.df.loc[:, col] = s.where(\n",
      "/Users/alexhasha/repos/power-supply-dashboard-analysis/libs/gridemissions/src/gridemissions/clean.py:167: FutureWarning: Setting an item of incompatible dtype is deprecated and will raise in a future error of pandas. Value '[2342. 1953. 1423. ... 4882. 4869. 4614.]' has dtype incompatible with int64, please explicitly cast to a compatible dtype first.\n",
      "  data.df.loc[:, col] = s.where(\n",
      "/Users/alexhasha/repos/power-supply-dashboard-analysis/libs/gridemissions/src/gridemissions/clean.py:167: FutureWarning: Setting an item of incompatible dtype is deprecated and will raise in a future error of pandas. Value '[1736. 1865. 1827. ... 1515. 1699. 1787.]' has dtype incompatible with int64, please explicitly cast to a compatible dtype first.\n",
      "  data.df.loc[:, col] = s.where(\n",
      "/Users/alexhasha/repos/power-supply-dashboard-analysis/libs/gridemissions/src/gridemissions/clean.py:167: FutureWarning: Setting an item of incompatible dtype is deprecated and will raise in a future error of pandas. Value '[nan nan 78. ... nan nan nan]' has dtype incompatible with int64, please explicitly cast to a compatible dtype first.\n",
      "  data.df.loc[:, col] = s.where(\n",
      "/Users/alexhasha/repos/power-supply-dashboard-analysis/libs/gridemissions/src/gridemissions/clean.py:167: FutureWarning: Setting an item of incompatible dtype is deprecated and will raise in a future error of pandas. Value '[1638. 1274. 1034. ...  390.  395.  366.]' has dtype incompatible with int64, please explicitly cast to a compatible dtype first.\n",
      "  data.df.loc[:, col] = s.where(\n",
      "/Users/alexhasha/repos/power-supply-dashboard-analysis/libs/gridemissions/src/gridemissions/clean.py:167: FutureWarning: Setting an item of incompatible dtype is deprecated and will raise in a future error of pandas. Value '[ 831.  995. 1067. ...  180.  104.   74.]' has dtype incompatible with int64, please explicitly cast to a compatible dtype first.\n",
      "  data.df.loc[:, col] = s.where(\n",
      "/Users/alexhasha/repos/power-supply-dashboard-analysis/libs/gridemissions/src/gridemissions/clean.py:167: FutureWarning: Setting an item of incompatible dtype is deprecated and will raise in a future error of pandas. Value '[327. 402. 375. ...  39.  28.  49.]' has dtype incompatible with int64, please explicitly cast to a compatible dtype first.\n",
      "  data.df.loc[:, col] = s.where(\n",
      "/Users/alexhasha/repos/power-supply-dashboard-analysis/libs/gridemissions/src/gridemissions/clean.py:167: FutureWarning: Setting an item of incompatible dtype is deprecated and will raise in a future error of pandas. Value '[1595. 1484. 1429. ... 2365. 2741. 2648.]' has dtype incompatible with int64, please explicitly cast to a compatible dtype first.\n",
      "  data.df.loc[:, col] = s.where(\n",
      "There are still some NaNs. Unexpected\n",
      "BCHA: 1 TI != sum(ID)\n",
      "CEN: 1 TI+D != NG\n",
      "CEN: 2 TI != sum(ID)\n",
      "YAD: 1 TI+D != NG\n",
      "YAD: 10 TI != sum(ID)\n",
      "YAD: 1 NG != sum(Generation by fuel)\n",
      "SEPA: 6 TI != sum(ID)\n",
      "NBSO: 1 TI+D != NG\n",
      "NBSO: 1 TI != sum(ID)\n",
      "NBSO: 1 NG != sum(Generation by fuel)\n",
      "MHEB: 2 TI != sum(ID)\n",
      "AESO: 1 TI+D != NG\n",
      "AESO: 1 TI != sum(ID)\n",
      "AESO: 1 NG != sum(Generation by fuel)\n",
      "WWA: 1 TI+D != NG\n",
      "WWA: 7 TI != sum(ID)\n",
      "WWA: 1 NG != sum(Generation by fuel)\n",
      "SPC: 8 TI+D != NG\n",
      "SPC: 10 TI != sum(ID)\n",
      "SPC: 8 NG != sum(Generation by fuel)\n",
      "Consumption calcs - unimplemented balance check!\n",
      "SPA: 1 TI+D != NG\n",
      "BPAT-BCHA: 1 ID[i,j] != -ID[j,i]\n",
      "BCHA-BPAT: 1 ID[i,j] != -ID[j,i]\n",
      "CEN: 1 TI+D != NG\n",
      "YAD: 33 TI+D != NG\n",
      "SEPA: 11 TI+D != NG\n",
      "NBSO: 1 TI+D != NG\n",
      "AESO: 1 TI+D != NG\n",
      "WWA: 3 TI+D != NG\n",
      "SPC: 9 TI+D != NG\n"
     ]
    }
   ],
   "source": [
    "make_dataset(\n",
    "    folder_out,\n",
    "    start=\"2024-07-01\",\n",
    "    end=\"2024-08-16\",\n",
    "    scrape=False,\n",
    ")"
   ]
  },
  {
   "cell_type": "code",
   "execution_count": 64,
   "metadata": {},
   "outputs": [
    {
     "name": "stdout",
     "output_type": "stream",
     "text": [
      "data_basic.csv     data_deltas.csv    data_opt.csv       data_weights.csv\n",
      "data_co2.csv       data_elec.csv      data_raw.csv\n",
      "data_co2i.csv      data_objective.csv data_rolling.csv\n"
     ]
    }
   ],
   "source": [
    "!ls ../data/processed/ge_make_dataset"
   ]
  },
  {
   "cell_type": "code",
   "execution_count": 68,
   "metadata": {},
   "outputs": [
    {
     "data": {
      "text/plain": [
       "(Timestamp('2024-07-01 00:00:00'), Timestamp('2024-08-16 00:00:00'))"
      ]
     },
     "execution_count": 68,
     "metadata": {},
     "output_type": "execute_result"
    }
   ],
   "source": [
    "latest_co2i = pd.read_csv(\"../data/processed/ge_make_dataset/data_co2i.csv\", index_col=0, parse_dates=True)\n",
    "latest_co2i.index.min(), latest_df.index.max()"
   ]
  },
  {
   "cell_type": "code",
   "execution_count": 66,
   "metadata": {},
   "outputs": [],
   "source": [
    "from power_dashboard.gridemissions_utils import load_bulk"
   ]
  },
  {
   "cell_type": "code",
   "execution_count": 67,
   "metadata": {},
   "outputs": [],
   "source": [
    "co2i_bulk = load_bulk(\"../data/interim/gridemissions\", \"co2i\")"
   ]
  },
  {
   "cell_type": "code",
   "execution_count": 69,
   "metadata": {},
   "outputs": [],
   "source": [
    "co2i_latest = ge.GraphData(latest_co2i)"
   ]
  },
  {
   "cell_type": "code",
   "execution_count": 70,
   "metadata": {},
   "outputs": [
    {
     "data": {
      "text/plain": [
       "(Timestamp('2018-07-01 05:00:00'), Timestamp('2024-06-15 07:00:00'))"
      ]
     },
     "execution_count": 70,
     "metadata": {},
     "output_type": "execute_result"
    }
   ],
   "source": [
    "co2i_bulk.df.index.min(), co2i_bulk.df.index.max()"
   ]
  },
  {
   "cell_type": "code",
   "execution_count": 86,
   "metadata": {},
   "outputs": [
    {
     "data": {
      "text/html": [
       "<div>\n",
       "<style scoped>\n",
       "    .dataframe tbody tr th:only-of-type {\n",
       "        vertical-align: middle;\n",
       "    }\n",
       "\n",
       "    .dataframe tbody tr th {\n",
       "        vertical-align: top;\n",
       "    }\n",
       "\n",
       "    .dataframe thead th {\n",
       "        text-align: right;\n",
       "    }\n",
       "</style>\n",
       "<table border=\"1\" class=\"dataframe\">\n",
       "  <thead>\n",
       "    <tr style=\"text-align: right;\">\n",
       "      <th></th>\n",
       "      <th>period</th>\n",
       "      <th>region</th>\n",
       "      <th>CO2 Intensity</th>\n",
       "    </tr>\n",
       "  </thead>\n",
       "  <tbody>\n",
       "    <tr>\n",
       "      <th>62985</th>\n",
       "      <td>2024-06-30 19:00:00-04:00</td>\n",
       "      <td>CO2i_ISNE_D</td>\n",
       "      <td>272.499982</td>\n",
       "    </tr>\n",
       "    <tr>\n",
       "      <th>62986</th>\n",
       "      <td>2024-06-30 20:00:00-04:00</td>\n",
       "      <td>CO2i_ISNE_D</td>\n",
       "      <td>288.992090</td>\n",
       "    </tr>\n",
       "    <tr>\n",
       "      <th>62987</th>\n",
       "      <td>2024-06-30 21:00:00-04:00</td>\n",
       "      <td>CO2i_ISNE_D</td>\n",
       "      <td>284.879914</td>\n",
       "    </tr>\n",
       "    <tr>\n",
       "      <th>62988</th>\n",
       "      <td>2024-06-30 22:00:00-04:00</td>\n",
       "      <td>CO2i_ISNE_D</td>\n",
       "      <td>292.873651</td>\n",
       "    </tr>\n",
       "    <tr>\n",
       "      <th>62989</th>\n",
       "      <td>2024-06-30 23:00:00-04:00</td>\n",
       "      <td>CO2i_ISNE_D</td>\n",
       "      <td>294.925715</td>\n",
       "    </tr>\n",
       "    <tr>\n",
       "      <th>...</th>\n",
       "      <td>...</td>\n",
       "      <td>...</td>\n",
       "      <td>...</td>\n",
       "    </tr>\n",
       "    <tr>\n",
       "      <th>64085</th>\n",
       "      <td>2024-08-15 15:00:00-04:00</td>\n",
       "      <td>CO2i_ISNE_D</td>\n",
       "      <td>302.354640</td>\n",
       "    </tr>\n",
       "    <tr>\n",
       "      <th>64086</th>\n",
       "      <td>2024-08-15 16:00:00-04:00</td>\n",
       "      <td>CO2i_ISNE_D</td>\n",
       "      <td>298.919324</td>\n",
       "    </tr>\n",
       "    <tr>\n",
       "      <th>64087</th>\n",
       "      <td>2024-08-15 17:00:00-04:00</td>\n",
       "      <td>CO2i_ISNE_D</td>\n",
       "      <td>293.505080</td>\n",
       "    </tr>\n",
       "    <tr>\n",
       "      <th>64088</th>\n",
       "      <td>2024-08-15 18:00:00-04:00</td>\n",
       "      <td>CO2i_ISNE_D</td>\n",
       "      <td>298.240058</td>\n",
       "    </tr>\n",
       "    <tr>\n",
       "      <th>64089</th>\n",
       "      <td>2024-08-15 19:00:00-04:00</td>\n",
       "      <td>CO2i_ISNE_D</td>\n",
       "      <td>311.189653</td>\n",
       "    </tr>\n",
       "  </tbody>\n",
       "</table>\n",
       "<p>1105 rows × 3 columns</p>\n",
       "</div>"
      ],
      "text/plain": [
       "                         period       region  CO2 Intensity\n",
       "62985 2024-06-30 19:00:00-04:00  CO2i_ISNE_D     272.499982\n",
       "62986 2024-06-30 20:00:00-04:00  CO2i_ISNE_D     288.992090\n",
       "62987 2024-06-30 21:00:00-04:00  CO2i_ISNE_D     284.879914\n",
       "62988 2024-06-30 22:00:00-04:00  CO2i_ISNE_D     292.873651\n",
       "62989 2024-06-30 23:00:00-04:00  CO2i_ISNE_D     294.925715\n",
       "...                         ...          ...            ...\n",
       "64085 2024-08-15 15:00:00-04:00  CO2i_ISNE_D     302.354640\n",
       "64086 2024-08-15 16:00:00-04:00  CO2i_ISNE_D     298.919324\n",
       "64087 2024-08-15 17:00:00-04:00  CO2i_ISNE_D     293.505080\n",
       "64088 2024-08-15 18:00:00-04:00  CO2i_ISNE_D     298.240058\n",
       "64089 2024-08-15 19:00:00-04:00  CO2i_ISNE_D     311.189653\n",
       "\n",
       "[1105 rows x 3 columns]"
      ]
     },
     "execution_count": 86,
     "metadata": {},
     "output_type": "execute_result"
    }
   ],
   "source": [
    "co2i_latest_isne = (\n",
    "    co2i_latest.df.reset_index()\n",
    "    .melt(id_vars=['period'], var_name=\"region\", value_name=\"CO2 Intensity\")\n",
    "    .query(\"region == 'CO2i_ISNE_D'\")\n",
    "    .dropna()\n",
    ")\n",
    "co2i_latest_isne.period = (\n",
    "    co2i_latest_isne.period.dt.tz_localize(\"UTC\") - pd.Timedelta(hours=1)\n",
    "    ).dt.tz_convert(\"America/New_York\")\n",
    "co2i_latest_isne"
   ]
  },
  {
   "cell_type": "code",
   "execution_count": 87,
   "metadata": {},
   "outputs": [
    {
     "data": {
      "text/html": [
       "<div>\n",
       "<style scoped>\n",
       "    .dataframe tbody tr th:only-of-type {\n",
       "        vertical-align: middle;\n",
       "    }\n",
       "\n",
       "    .dataframe tbody tr th {\n",
       "        vertical-align: top;\n",
       "    }\n",
       "\n",
       "    .dataframe thead th {\n",
       "        text-align: right;\n",
       "    }\n",
       "</style>\n",
       "<table border=\"1\" class=\"dataframe\">\n",
       "  <thead>\n",
       "    <tr style=\"text-align: right;\">\n",
       "      <th></th>\n",
       "      <th>datetime</th>\n",
       "      <th>carbonIntensity</th>\n",
       "    </tr>\n",
       "  </thead>\n",
       "  <tbody>\n",
       "    <tr>\n",
       "      <th>131</th>\n",
       "      <td>2024-08-12 00:00:00-04:00</td>\n",
       "      <td>306</td>\n",
       "    </tr>\n",
       "    <tr>\n",
       "      <th>132</th>\n",
       "      <td>2024-08-12 01:00:00-04:00</td>\n",
       "      <td>301</td>\n",
       "    </tr>\n",
       "    <tr>\n",
       "      <th>133</th>\n",
       "      <td>2024-08-12 02:00:00-04:00</td>\n",
       "      <td>294</td>\n",
       "    </tr>\n",
       "    <tr>\n",
       "      <th>134</th>\n",
       "      <td>2024-08-12 03:00:00-04:00</td>\n",
       "      <td>289</td>\n",
       "    </tr>\n",
       "    <tr>\n",
       "      <th>135</th>\n",
       "      <td>2024-08-12 04:00:00-04:00</td>\n",
       "      <td>290</td>\n",
       "    </tr>\n",
       "    <tr>\n",
       "      <th>...</th>\n",
       "      <td>...</td>\n",
       "      <td>...</td>\n",
       "    </tr>\n",
       "    <tr>\n",
       "      <th>257</th>\n",
       "      <td>2024-08-17 06:00:00-04:00</td>\n",
       "      <td>322</td>\n",
       "    </tr>\n",
       "    <tr>\n",
       "      <th>258</th>\n",
       "      <td>2024-08-17 07:00:00-04:00</td>\n",
       "      <td>320</td>\n",
       "    </tr>\n",
       "    <tr>\n",
       "      <th>259</th>\n",
       "      <td>2024-08-17 08:00:00-04:00</td>\n",
       "      <td>331</td>\n",
       "    </tr>\n",
       "    <tr>\n",
       "      <th>260</th>\n",
       "      <td>2024-08-17 09:00:00-04:00</td>\n",
       "      <td>335</td>\n",
       "    </tr>\n",
       "    <tr>\n",
       "      <th>261</th>\n",
       "      <td>2024-08-17 10:00:00-04:00</td>\n",
       "      <td>334</td>\n",
       "    </tr>\n",
       "  </tbody>\n",
       "</table>\n",
       "<p>131 rows × 2 columns</p>\n",
       "</div>"
      ],
      "text/plain": [
       "                     datetime  carbonIntensity\n",
       "131 2024-08-12 00:00:00-04:00              306\n",
       "132 2024-08-12 01:00:00-04:00              301\n",
       "133 2024-08-12 02:00:00-04:00              294\n",
       "134 2024-08-12 03:00:00-04:00              289\n",
       "135 2024-08-12 04:00:00-04:00              290\n",
       "..                        ...              ...\n",
       "257 2024-08-17 06:00:00-04:00              322\n",
       "258 2024-08-17 07:00:00-04:00              320\n",
       "259 2024-08-17 08:00:00-04:00              331\n",
       "260 2024-08-17 09:00:00-04:00              335\n",
       "261 2024-08-17 10:00:00-04:00              334\n",
       "\n",
       "[131 rows x 2 columns]"
      ]
     },
     "execution_count": 87,
     "metadata": {},
     "output_type": "execute_result"
    }
   ],
   "source": [
    "emaps_intensity = filtered_records.query(\"zone == 'US-NE-ISNE'\")[[\"datetime\", \"carbonIntensity\"]]\n",
    "emaps_intensity"
   ]
  },
  {
   "cell_type": "code",
   "execution_count": 88,
   "metadata": {},
   "outputs": [
    {
     "data": {
      "text/html": [
       "<div>\n",
       "<style scoped>\n",
       "    .dataframe tbody tr th:only-of-type {\n",
       "        vertical-align: middle;\n",
       "    }\n",
       "\n",
       "    .dataframe tbody tr th {\n",
       "        vertical-align: top;\n",
       "    }\n",
       "\n",
       "    .dataframe thead th {\n",
       "        text-align: right;\n",
       "    }\n",
       "</style>\n",
       "<table border=\"1\" class=\"dataframe\">\n",
       "  <thead>\n",
       "    <tr style=\"text-align: right;\">\n",
       "      <th></th>\n",
       "      <th>period</th>\n",
       "      <th>region</th>\n",
       "      <th>CO2 Intensity</th>\n",
       "      <th>datetime</th>\n",
       "      <th>carbonIntensity</th>\n",
       "    </tr>\n",
       "  </thead>\n",
       "  <tbody>\n",
       "    <tr>\n",
       "      <th>0</th>\n",
       "      <td>2024-08-12 00:00:00-04:00</td>\n",
       "      <td>CO2i_ISNE_D</td>\n",
       "      <td>290.206934</td>\n",
       "      <td>2024-08-12 00:00:00-04:00</td>\n",
       "      <td>306</td>\n",
       "    </tr>\n",
       "    <tr>\n",
       "      <th>1</th>\n",
       "      <td>2024-08-12 01:00:00-04:00</td>\n",
       "      <td>CO2i_ISNE_D</td>\n",
       "      <td>285.858167</td>\n",
       "      <td>2024-08-12 01:00:00-04:00</td>\n",
       "      <td>301</td>\n",
       "    </tr>\n",
       "    <tr>\n",
       "      <th>2</th>\n",
       "      <td>2024-08-12 02:00:00-04:00</td>\n",
       "      <td>CO2i_ISNE_D</td>\n",
       "      <td>281.055358</td>\n",
       "      <td>2024-08-12 02:00:00-04:00</td>\n",
       "      <td>294</td>\n",
       "    </tr>\n",
       "    <tr>\n",
       "      <th>3</th>\n",
       "      <td>2024-08-12 03:00:00-04:00</td>\n",
       "      <td>CO2i_ISNE_D</td>\n",
       "      <td>275.990845</td>\n",
       "      <td>2024-08-12 03:00:00-04:00</td>\n",
       "      <td>289</td>\n",
       "    </tr>\n",
       "    <tr>\n",
       "      <th>4</th>\n",
       "      <td>2024-08-12 04:00:00-04:00</td>\n",
       "      <td>CO2i_ISNE_D</td>\n",
       "      <td>276.200131</td>\n",
       "      <td>2024-08-12 04:00:00-04:00</td>\n",
       "      <td>290</td>\n",
       "    </tr>\n",
       "    <tr>\n",
       "      <th>...</th>\n",
       "      <td>...</td>\n",
       "      <td>...</td>\n",
       "      <td>...</td>\n",
       "      <td>...</td>\n",
       "      <td>...</td>\n",
       "    </tr>\n",
       "    <tr>\n",
       "      <th>87</th>\n",
       "      <td>2024-08-15 15:00:00-04:00</td>\n",
       "      <td>CO2i_ISNE_D</td>\n",
       "      <td>302.354640</td>\n",
       "      <td>2024-08-15 15:00:00-04:00</td>\n",
       "      <td>324</td>\n",
       "    </tr>\n",
       "    <tr>\n",
       "      <th>88</th>\n",
       "      <td>2024-08-15 16:00:00-04:00</td>\n",
       "      <td>CO2i_ISNE_D</td>\n",
       "      <td>298.919324</td>\n",
       "      <td>2024-08-15 16:00:00-04:00</td>\n",
       "      <td>321</td>\n",
       "    </tr>\n",
       "    <tr>\n",
       "      <th>89</th>\n",
       "      <td>2024-08-15 17:00:00-04:00</td>\n",
       "      <td>CO2i_ISNE_D</td>\n",
       "      <td>293.505080</td>\n",
       "      <td>2024-08-15 17:00:00-04:00</td>\n",
       "      <td>316</td>\n",
       "    </tr>\n",
       "    <tr>\n",
       "      <th>90</th>\n",
       "      <td>2024-08-15 18:00:00-04:00</td>\n",
       "      <td>CO2i_ISNE_D</td>\n",
       "      <td>298.240058</td>\n",
       "      <td>2024-08-15 18:00:00-04:00</td>\n",
       "      <td>321</td>\n",
       "    </tr>\n",
       "    <tr>\n",
       "      <th>91</th>\n",
       "      <td>2024-08-15 19:00:00-04:00</td>\n",
       "      <td>CO2i_ISNE_D</td>\n",
       "      <td>311.189653</td>\n",
       "      <td>2024-08-15 19:00:00-04:00</td>\n",
       "      <td>334</td>\n",
       "    </tr>\n",
       "  </tbody>\n",
       "</table>\n",
       "<p>92 rows × 5 columns</p>\n",
       "</div>"
      ],
      "text/plain": [
       "                      period       region  CO2 Intensity  \\\n",
       "0  2024-08-12 00:00:00-04:00  CO2i_ISNE_D     290.206934   \n",
       "1  2024-08-12 01:00:00-04:00  CO2i_ISNE_D     285.858167   \n",
       "2  2024-08-12 02:00:00-04:00  CO2i_ISNE_D     281.055358   \n",
       "3  2024-08-12 03:00:00-04:00  CO2i_ISNE_D     275.990845   \n",
       "4  2024-08-12 04:00:00-04:00  CO2i_ISNE_D     276.200131   \n",
       "..                       ...          ...            ...   \n",
       "87 2024-08-15 15:00:00-04:00  CO2i_ISNE_D     302.354640   \n",
       "88 2024-08-15 16:00:00-04:00  CO2i_ISNE_D     298.919324   \n",
       "89 2024-08-15 17:00:00-04:00  CO2i_ISNE_D     293.505080   \n",
       "90 2024-08-15 18:00:00-04:00  CO2i_ISNE_D     298.240058   \n",
       "91 2024-08-15 19:00:00-04:00  CO2i_ISNE_D     311.189653   \n",
       "\n",
       "                    datetime  carbonIntensity  \n",
       "0  2024-08-12 00:00:00-04:00              306  \n",
       "1  2024-08-12 01:00:00-04:00              301  \n",
       "2  2024-08-12 02:00:00-04:00              294  \n",
       "3  2024-08-12 03:00:00-04:00              289  \n",
       "4  2024-08-12 04:00:00-04:00              290  \n",
       "..                       ...              ...  \n",
       "87 2024-08-15 15:00:00-04:00              324  \n",
       "88 2024-08-15 16:00:00-04:00              321  \n",
       "89 2024-08-15 17:00:00-04:00              316  \n",
       "90 2024-08-15 18:00:00-04:00              321  \n",
       "91 2024-08-15 19:00:00-04:00              334  \n",
       "\n",
       "[92 rows x 5 columns]"
      ]
     },
     "execution_count": 88,
     "metadata": {},
     "output_type": "execute_result"
    }
   ],
   "source": [
    "validation_overlap = pd.merge(co2i_latest_isne, emaps_intensity, left_on=\"period\", right_on=\"datetime\", how=\"inner\")\n",
    "validation_overlap"
   ]
  },
  {
   "cell_type": "code",
   "execution_count": 89,
   "metadata": {},
   "outputs": [
    {
     "data": {
      "image/png": "[encoded data removed]",
      "text/plain": [
       "<Figure size 640x480 with 1 Axes>"
      ]
     },
     "metadata": {},
     "output_type": "display_data"
    }
   ],
   "source": [
    "fig, ax = plt.subplots()\n",
    "ax.plot(validation_overlap.period, validation_overlap[\"CO2 Intensity\"], label=\"gridemissions co2i\")\n",
    "ax.plot(validation_overlap.datetime, validation_overlap.carbonIntensity, label=\"ElectricityMaps carbonIntensity\")\n",
    "ax.plot(validation_overlap.datetime, validation_overlap.carbonIntensity - validation_overlap[\"CO2 Intensity\"], label=\"Difference\")\n",
    "\n",
    "# Set major locator to every hour\n",
    "ax.xaxis.set_major_locator(mdates.HourLocator(interval=6, tz=\"America/New_York\"))\n",
    "\n",
    "# Set major formatter to show date and time\n",
    "ax.xaxis.set_major_formatter(mdates.DateFormatter('%Y-%m-%d %H:%M', tz=\"America/New_York\"))\n",
    "\n",
    "# Optional: rotate and align the tick labels so they look better\n",
    "plt.setp(ax.get_xticklabels(), rotation=45, ha='right')\n",
    "# Optional: add grid for better readability\n",
    "ax.grid(True)\n",
    "ax.legend(bbox_to_anchor=(1, 0.7))\n",
    "ax.set_title(\"Comparison of ElectricityMaps and GridEmissions carbon intensity for ISNE\")\n",
    "ax.set_ylabel(\"Carbon Intensity (gCO2eq/kWh)\")\n",
    "ax.set_xlabel(\"Date and Time\")\n",
    "fig.autofmt_xdate()\n",
    "plt.show()"
   ]
  },
  {
   "cell_type": "code",
   "execution_count": 91,
   "metadata": {},
   "outputs": [
    {
     "data": {
      "text/plain": [
       "(5.196158368133288, 1.404854488399104)"
      ]
     },
     "execution_count": 91,
     "metadata": {},
     "output_type": "execute_result"
    }
   ],
   "source": [
    "# The delta between the two time series is about 5% +/- 1%,\n",
    "# but the intra-day max and min are consistent\n",
    "delta = validation_overlap.carbonIntensity - validation_overlap[\"CO2 Intensity\"]\n",
    "mean_actual = validation_overlap.carbonIntensity.mean()\n",
    "100 *delta.mean() / mean_actual, 100* delta.std() / mean_actual"
   ]
  },
  {
   "cell_type": "code",
   "execution_count": null,
   "metadata": {},
   "outputs": [],
   "source": []
  }
 ],
 "metadata": {
  "kernelspec": {
   "display_name": "power-dashboard-zNqpkPiA-py3.12",
   "language": "python",
   "name": "python3"
  },
  "language_info": {
   "codemirror_mode": {
    "name": "ipython",
    "version": 3
   },
   "file_extension": ".py",
   "mimetype": "text/x-python",
   "name": "python",
   "nbconvert_exporter": "python",
   "pygments_lexer": "ipython3",
   "version": "3.12.3"
  }
 },
 "nbformat": 4,
 "nbformat_minor": 2
}
