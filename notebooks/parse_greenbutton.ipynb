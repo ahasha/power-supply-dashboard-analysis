{
 "cells": [
  {
   "cell_type": "code",
   "execution_count": 1,
   "metadata": {},
   "outputs": [],
   "source": [
    "from greenbutton.parse import parse_feed"
   ]
  },
  {
   "cell_type": "code",
   "execution_count": 2,
   "metadata": {},
   "outputs": [
    {
     "name": "stdout",
     "output_type": "stream",
     "text": [
      "/Users/alexhasha/Library/Caches/pypoetry/virtualenvs/power-dashboard-zNqpkPiA-py3.12/lib/python3.12/site-packages/greenbutton/__init__.py\n"
     ]
    }
   ],
   "source": [
    "import greenbutton\n",
    "print(greenbutton.__file__)"
   ]
  },
  {
   "cell_type": "code",
   "execution_count": 3,
   "metadata": {},
   "outputs": [
    {
     "ename": "ValueError",
     "evalue": "4 is not a valid FlowDirectionType",
     "output_type": "error",
     "traceback": [
      "\u001b[0;31m---------------------------------------------------------------------------\u001b[0m",
      "\u001b[0;31mValueError\u001b[0m                                Traceback (most recent call last)",
      "Cell \u001b[0;32mIn[3], line 1\u001b[0m\n\u001b[0;32m----> 1\u001b[0m result \u001b[38;5;241m=\u001b[39m \u001b[43mparse_feed\u001b[49m\u001b[43m(\u001b[49m\u001b[38;5;124;43m\"\u001b[39;49m\u001b[38;5;124;43m../data/raw/green_button_data_1723657483476.xml\u001b[39;49m\u001b[38;5;124;43m\"\u001b[39;49m\u001b[43m)\u001b[49m\n",
      "File \u001b[0;32m~/Library/Caches/pypoetry/virtualenvs/power-dashboard-zNqpkPiA-py3.12/lib/python3.12/site-packages/greenbutton/parse.py:26\u001b[0m, in \u001b[0;36mparse_feed\u001b[0;34m(filename)\u001b[0m\n\u001b[1;32m     24\u001b[0m readingTypes \u001b[38;5;241m=\u001b[39m []\n\u001b[1;32m     25\u001b[0m \u001b[38;5;28;01mfor\u001b[39;00m entry \u001b[38;5;129;01min\u001b[39;00m tree\u001b[38;5;241m.\u001b[39mgetroot()\u001b[38;5;241m.\u001b[39mfindall(\u001b[38;5;124m'\u001b[39m\u001b[38;5;124matom:entry/atom:content/espi:ReadingType/../..\u001b[39m\u001b[38;5;124m'\u001b[39m, ns):\n\u001b[0;32m---> 26\u001b[0m     rt \u001b[38;5;241m=\u001b[39m \u001b[43mReadingType\u001b[49m\u001b[43m(\u001b[49m\u001b[43mentry\u001b[49m\u001b[43m,\u001b[49m\u001b[43m \u001b[49m\u001b[43mmeterReadings\u001b[49m\u001b[38;5;241;43m=\u001b[39;49m\u001b[43mmeterReadings\u001b[49m\u001b[43m)\u001b[49m\n\u001b[1;32m     27\u001b[0m     readingTypes\u001b[38;5;241m.\u001b[39mappend(rt)\n\u001b[1;32m     29\u001b[0m intervalBlocks \u001b[38;5;241m=\u001b[39m []\n",
      "File \u001b[0;32m~/Library/Caches/pypoetry/virtualenvs/power-dashboard-zNqpkPiA-py3.12/lib/python3.12/site-packages/greenbutton/resources.py:103\u001b[0m, in \u001b[0;36mReadingType.__init__\u001b[0;34m(self, entry, meterReadings)\u001b[0m\n\u001b[1;32m     99\u001b[0m \u001b[38;5;28mself\u001b[39m\u001b[38;5;241m.\u001b[39mdataQualifier \u001b[38;5;241m=\u001b[39m getEntity(obj, \u001b[38;5;124m'\u001b[39m\u001b[38;5;124mespi:dataQualifier\u001b[39m\u001b[38;5;124m'\u001b[39m,\n\u001b[1;32m    100\u001b[0m                                \u001b[38;5;28;01mlambda\u001b[39;00m e: DataQualifierType(\u001b[38;5;28mint\u001b[39m(e\u001b[38;5;241m.\u001b[39mtext)))\n\u001b[1;32m    101\u001b[0m \u001b[38;5;28mself\u001b[39m\u001b[38;5;241m.\u001b[39mdefaultQuality \u001b[38;5;241m=\u001b[39m getEntity(obj, \u001b[38;5;124m'\u001b[39m\u001b[38;5;124mespi:defaultQuality\u001b[39m\u001b[38;5;124m'\u001b[39m,\n\u001b[1;32m    102\u001b[0m                                 \u001b[38;5;28;01mlambda\u001b[39;00m e: QualityOfReading(\u001b[38;5;28mint\u001b[39m(e\u001b[38;5;241m.\u001b[39mtext)))\n\u001b[0;32m--> 103\u001b[0m \u001b[38;5;28mself\u001b[39m\u001b[38;5;241m.\u001b[39mflowDirection \u001b[38;5;241m=\u001b[39m \u001b[43mgetEntity\u001b[49m\u001b[43m(\u001b[49m\u001b[43mobj\u001b[49m\u001b[43m,\u001b[49m\u001b[43m \u001b[49m\u001b[38;5;124;43m'\u001b[39;49m\u001b[38;5;124;43mespi:flowDirection\u001b[39;49m\u001b[38;5;124;43m'\u001b[39;49m\u001b[43m,\u001b[49m\n\u001b[1;32m    104\u001b[0m \u001b[43m                               \u001b[49m\u001b[38;5;28;43;01mlambda\u001b[39;49;00m\u001b[43m \u001b[49m\u001b[43me\u001b[49m\u001b[43m:\u001b[49m\u001b[43m \u001b[49m\u001b[43mFlowDirectionType\u001b[49m\u001b[43m(\u001b[49m\u001b[38;5;28;43mint\u001b[39;49m\u001b[43m(\u001b[49m\u001b[43me\u001b[49m\u001b[38;5;241;43m.\u001b[39;49m\u001b[43mtext\u001b[49m\u001b[43m)\u001b[49m\u001b[43m)\u001b[49m\u001b[43m)\u001b[49m\n\u001b[1;32m    105\u001b[0m \u001b[38;5;28mself\u001b[39m\u001b[38;5;241m.\u001b[39mintervalLength \u001b[38;5;241m=\u001b[39m getEntity(obj, \u001b[38;5;124m'\u001b[39m\u001b[38;5;124mespi:intervalLength\u001b[39m\u001b[38;5;124m'\u001b[39m, \u001b[38;5;28;01mlambda\u001b[39;00m e: \u001b[38;5;28mint\u001b[39m(e\u001b[38;5;241m.\u001b[39mtext))\n\u001b[1;32m    106\u001b[0m \u001b[38;5;28mself\u001b[39m\u001b[38;5;241m.\u001b[39mkind \u001b[38;5;241m=\u001b[39m getEntity(obj, \u001b[38;5;124m'\u001b[39m\u001b[38;5;124mespi:kind\u001b[39m\u001b[38;5;124m'\u001b[39m, \u001b[38;5;28;01mlambda\u001b[39;00m e: KindType(\u001b[38;5;28mint\u001b[39m(e\u001b[38;5;241m.\u001b[39mtext)))\n",
      "File \u001b[0;32m~/Library/Caches/pypoetry/virtualenvs/power-dashboard-zNqpkPiA-py3.12/lib/python3.12/site-packages/greenbutton/utils.py:21\u001b[0m, in \u001b[0;36mgetEntity\u001b[0;34m(source, target, accessor, multiple)\u001b[0m\n\u001b[1;32m     19\u001b[0m e \u001b[38;5;241m=\u001b[39m source\u001b[38;5;241m.\u001b[39mfind(target, ns)\n\u001b[1;32m     20\u001b[0m \u001b[38;5;28;01mif\u001b[39;00m e \u001b[38;5;129;01mis\u001b[39;00m \u001b[38;5;129;01mnot\u001b[39;00m \u001b[38;5;28;01mNone\u001b[39;00m \u001b[38;5;129;01mand\u001b[39;00m accessor \u001b[38;5;129;01mis\u001b[39;00m \u001b[38;5;129;01mnot\u001b[39;00m \u001b[38;5;28;01mNone\u001b[39;00m:\n\u001b[0;32m---> 21\u001b[0m     \u001b[38;5;28;01mreturn\u001b[39;00m \u001b[43maccessor\u001b[49m\u001b[43m(\u001b[49m\u001b[43me\u001b[49m\u001b[43m)\u001b[49m\n\u001b[1;32m     22\u001b[0m \u001b[38;5;28;01melse\u001b[39;00m:\n\u001b[1;32m     23\u001b[0m     \u001b[38;5;28;01mreturn\u001b[39;00m e\n",
      "File \u001b[0;32m~/Library/Caches/pypoetry/virtualenvs/power-dashboard-zNqpkPiA-py3.12/lib/python3.12/site-packages/greenbutton/resources.py:104\u001b[0m, in \u001b[0;36mReadingType.__init__.<locals>.<lambda>\u001b[0;34m(e)\u001b[0m\n\u001b[1;32m     99\u001b[0m \u001b[38;5;28mself\u001b[39m\u001b[38;5;241m.\u001b[39mdataQualifier \u001b[38;5;241m=\u001b[39m getEntity(obj, \u001b[38;5;124m'\u001b[39m\u001b[38;5;124mespi:dataQualifier\u001b[39m\u001b[38;5;124m'\u001b[39m,\n\u001b[1;32m    100\u001b[0m                                \u001b[38;5;28;01mlambda\u001b[39;00m e: DataQualifierType(\u001b[38;5;28mint\u001b[39m(e\u001b[38;5;241m.\u001b[39mtext)))\n\u001b[1;32m    101\u001b[0m \u001b[38;5;28mself\u001b[39m\u001b[38;5;241m.\u001b[39mdefaultQuality \u001b[38;5;241m=\u001b[39m getEntity(obj, \u001b[38;5;124m'\u001b[39m\u001b[38;5;124mespi:defaultQuality\u001b[39m\u001b[38;5;124m'\u001b[39m,\n\u001b[1;32m    102\u001b[0m                                 \u001b[38;5;28;01mlambda\u001b[39;00m e: QualityOfReading(\u001b[38;5;28mint\u001b[39m(e\u001b[38;5;241m.\u001b[39mtext)))\n\u001b[1;32m    103\u001b[0m \u001b[38;5;28mself\u001b[39m\u001b[38;5;241m.\u001b[39mflowDirection \u001b[38;5;241m=\u001b[39m getEntity(obj, \u001b[38;5;124m'\u001b[39m\u001b[38;5;124mespi:flowDirection\u001b[39m\u001b[38;5;124m'\u001b[39m,\n\u001b[0;32m--> 104\u001b[0m                                \u001b[38;5;28;01mlambda\u001b[39;00m e: \u001b[43mFlowDirectionType\u001b[49m\u001b[43m(\u001b[49m\u001b[38;5;28;43mint\u001b[39;49m\u001b[43m(\u001b[49m\u001b[43me\u001b[49m\u001b[38;5;241;43m.\u001b[39;49m\u001b[43mtext\u001b[49m\u001b[43m)\u001b[49m\u001b[43m)\u001b[49m)\n\u001b[1;32m    105\u001b[0m \u001b[38;5;28mself\u001b[39m\u001b[38;5;241m.\u001b[39mintervalLength \u001b[38;5;241m=\u001b[39m getEntity(obj, \u001b[38;5;124m'\u001b[39m\u001b[38;5;124mespi:intervalLength\u001b[39m\u001b[38;5;124m'\u001b[39m, \u001b[38;5;28;01mlambda\u001b[39;00m e: \u001b[38;5;28mint\u001b[39m(e\u001b[38;5;241m.\u001b[39mtext))\n\u001b[1;32m    106\u001b[0m \u001b[38;5;28mself\u001b[39m\u001b[38;5;241m.\u001b[39mkind \u001b[38;5;241m=\u001b[39m getEntity(obj, \u001b[38;5;124m'\u001b[39m\u001b[38;5;124mespi:kind\u001b[39m\u001b[38;5;124m'\u001b[39m, \u001b[38;5;28;01mlambda\u001b[39;00m e: KindType(\u001b[38;5;28mint\u001b[39m(e\u001b[38;5;241m.\u001b[39mtext)))\n",
      "File \u001b[0;32m~/.pyenv/versions/3.12.3/lib/python3.12/enum.py:757\u001b[0m, in \u001b[0;36mEnumType.__call__\u001b[0;34m(cls, value, names, module, qualname, type, start, boundary, *values)\u001b[0m\n\u001b[1;32m    755\u001b[0m     \u001b[38;5;28;01mif\u001b[39;00m names \u001b[38;5;129;01mis\u001b[39;00m \u001b[38;5;129;01mnot\u001b[39;00m _not_given:\n\u001b[1;32m    756\u001b[0m         value \u001b[38;5;241m=\u001b[39m (value, names) \u001b[38;5;241m+\u001b[39m values\n\u001b[0;32m--> 757\u001b[0m     \u001b[38;5;28;01mreturn\u001b[39;00m \u001b[38;5;28;43mcls\u001b[39;49m\u001b[38;5;241;43m.\u001b[39;49m\u001b[38;5;21;43m__new__\u001b[39;49m\u001b[43m(\u001b[49m\u001b[38;5;28;43mcls\u001b[39;49m\u001b[43m,\u001b[49m\u001b[43m \u001b[49m\u001b[43mvalue\u001b[49m\u001b[43m)\u001b[49m\n\u001b[1;32m    758\u001b[0m \u001b[38;5;66;03m# otherwise, functional API: we're creating a new Enum type\u001b[39;00m\n\u001b[1;32m    759\u001b[0m \u001b[38;5;28;01mif\u001b[39;00m names \u001b[38;5;129;01mis\u001b[39;00m _not_given \u001b[38;5;129;01mand\u001b[39;00m \u001b[38;5;28mtype\u001b[39m \u001b[38;5;129;01mis\u001b[39;00m \u001b[38;5;28;01mNone\u001b[39;00m:\n\u001b[1;32m    760\u001b[0m     \u001b[38;5;66;03m# no body? no data-type? possibly wrong usage\u001b[39;00m\n",
      "File \u001b[0;32m~/.pyenv/versions/3.12.3/lib/python3.12/enum.py:1171\u001b[0m, in \u001b[0;36mEnum.__new__\u001b[0;34m(cls, value)\u001b[0m\n\u001b[1;32m   1169\u001b[0m ve_exc \u001b[38;5;241m=\u001b[39m \u001b[38;5;167;01mValueError\u001b[39;00m(\u001b[38;5;124m\"\u001b[39m\u001b[38;5;132;01m%r\u001b[39;00m\u001b[38;5;124m is not a valid \u001b[39m\u001b[38;5;132;01m%s\u001b[39;00m\u001b[38;5;124m\"\u001b[39m \u001b[38;5;241m%\u001b[39m (value, \u001b[38;5;28mcls\u001b[39m\u001b[38;5;241m.\u001b[39m\u001b[38;5;18m__qualname__\u001b[39m))\n\u001b[1;32m   1170\u001b[0m \u001b[38;5;28;01mif\u001b[39;00m result \u001b[38;5;129;01mis\u001b[39;00m \u001b[38;5;28;01mNone\u001b[39;00m \u001b[38;5;129;01mand\u001b[39;00m exc \u001b[38;5;129;01mis\u001b[39;00m \u001b[38;5;28;01mNone\u001b[39;00m:\n\u001b[0;32m-> 1171\u001b[0m     \u001b[38;5;28;01mraise\u001b[39;00m ve_exc\n\u001b[1;32m   1172\u001b[0m \u001b[38;5;28;01melif\u001b[39;00m exc \u001b[38;5;129;01mis\u001b[39;00m \u001b[38;5;28;01mNone\u001b[39;00m:\n\u001b[1;32m   1173\u001b[0m     exc \u001b[38;5;241m=\u001b[39m \u001b[38;5;167;01mTypeError\u001b[39;00m(\n\u001b[1;32m   1174\u001b[0m             \u001b[38;5;124m'\u001b[39m\u001b[38;5;124merror in \u001b[39m\u001b[38;5;132;01m%s\u001b[39;00m\u001b[38;5;124m._missing_: returned \u001b[39m\u001b[38;5;132;01m%r\u001b[39;00m\u001b[38;5;124m instead of None or a valid member\u001b[39m\u001b[38;5;124m'\u001b[39m\n\u001b[1;32m   1175\u001b[0m             \u001b[38;5;241m%\u001b[39m (\u001b[38;5;28mcls\u001b[39m\u001b[38;5;241m.\u001b[39m\u001b[38;5;18m__name__\u001b[39m, result)\n\u001b[1;32m   1176\u001b[0m             )\n",
      "\u001b[0;31mValueError\u001b[0m: 4 is not a valid FlowDirectionType"
     ]
    }
   ],
   "source": [
    "result = parse_feed(\"../data/raw/green_button_data_1723657483476.xml\")"
   ]
  },
  {
   "cell_type": "code",
   "execution_count": null,
   "metadata": {},
   "outputs": [],
   "source": []
  },
  {
   "cell_type": "code",
   "execution_count": null,
   "metadata": {},
   "outputs": [],
   "source": [
    "len(result)"
   ]
  },
  {
   "cell_type": "code",
   "execution_count": null,
   "metadata": {},
   "outputs": [],
   "source": [
    "dir(result[0])"
   ]
  },
  {
   "cell_type": "code",
   "execution_count": null,
   "metadata": {},
   "outputs": [],
   "source": []
  },
  {
   "cell_type": "code",
   "execution_count": null,
   "metadata": {},
   "outputs": [],
   "source": []
  }
 ],
 "metadata": {
  "kernelspec": {
   "display_name": "power-dashboard-zNqpkPiA-py3.12",
   "language": "python",
   "name": "python3"
  },
  "language_info": {
   "codemirror_mode": {
    "name": "ipython",
    "version": 3
   },
   "file_extension": ".py",
   "mimetype": "text/x-python",
   "name": "python",
   "nbconvert_exporter": "python",
   "pygments_lexer": "ipython3",
   "version": "3.12.3"
  }
 },
 "nbformat": 4,
 "nbformat_minor": 2
}
